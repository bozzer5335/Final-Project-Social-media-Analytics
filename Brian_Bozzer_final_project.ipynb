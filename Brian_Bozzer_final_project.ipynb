{
 "cells": [
  {
   "cell_type": "markdown",
   "metadata": {},
   "source": [
    "# Final Project"
   ]
  },
  {
   "cell_type": "markdown",
   "metadata": {},
   "source": [
    "Analysis Summary\n",
    "\n",
    "In this analysis I analyzed tweets by two different electric guitar brands. Fender guitar and Gibson guitars. In this analysis I Used Twitter API to collect the Data. I perform some text analysis including word clouds and word frequency. I then performed sentiment analysis on both sets of twitter data. This is to determine the tone of each company on and thier social media presence. I included a graph of the sentiment scores so that you can visualize the distrubtion of scores. This could be used by a manager to understand how they are coming across on twitter to their customers compared to other brands. I then moved on topic modeling. I developed a model for each brand which catogorizes tweets into a handful of topics. This can be used managers to better understand their social media presence and to categorize topics and understand maybe what topics that could be focused on more or less. I then moved on to a hashtag network analysis so this could be used to understand what hashtags are being maentioned together and what things that the brands are promoting are linked to each other. Overall there are many mangerial perpectives that can be drawn from my analysis."
   ]
  },
  {
   "cell_type": "code",
   "execution_count": 3,
   "metadata": {},
   "outputs": [],
   "source": [
    "import csv\n",
    "import pandas as pd\n",
    "import re\n",
    "import json\n",
    "import nltk\n",
    "from nltk import word_tokenize\n",
    "from nltk.corpus import stopwords\n",
    "import numpy as np\n",
    "import pandas as pd\n",
    "\n",
    "import seaborn as sns\n",
    "import scipy.stats as stats\n",
    "from scipy import stats\n",
    "from pandas.tools import plotting\n",
    "\n",
    "import nltk\n",
    "from nltk.corpus import stopwords\n",
    "from nltk import FreqDist, word_tokenize\n",
    "from nltk.stem.porter import PorterStemmer\n",
    "from nltk.stem import WordNetLemmatizer\n",
    "from nltk.corpus import stopwords\n",
    "import re\n",
    "#csv\n",
    "import csv\n",
    "import pandas as pd\n",
    "import matplotlib.pyplot as plt\n",
    "%matplotlib inline\n",
    "from nltk.sentiment.vader import SentimentIntensityAnalyzer\n",
    "\n",
    "from textblob import TextBlob\n",
    "from wordcloud import WordCloud, STOPWORDS"
   ]
  },
  {
   "cell_type": "markdown",
   "metadata": {},
   "source": [
    "# Data Collection"
   ]
  },
  {
   "cell_type": "code",
   "execution_count": 4,
   "metadata": {},
   "outputs": [
    {
     "data": {
      "text/html": [
       "<div>\n",
       "<style scoped>\n",
       "    .dataframe tbody tr th:only-of-type {\n",
       "        vertical-align: middle;\n",
       "    }\n",
       "\n",
       "    .dataframe tbody tr th {\n",
       "        vertical-align: top;\n",
       "    }\n",
       "\n",
       "    .dataframe thead th {\n",
       "        text-align: right;\n",
       "    }\n",
       "</style>\n",
       "<table border=\"1\" class=\"dataframe\">\n",
       "  <thead>\n",
       "    <tr style=\"text-align: right;\">\n",
       "      <th></th>\n",
       "      <th>handle</th>\n",
       "      <th>time</th>\n",
       "      <th>tweet</th>\n",
       "    </tr>\n",
       "  </thead>\n",
       "  <tbody>\n",
       "    <tr>\n",
       "      <th>0</th>\n",
       "      <td>gibsonguitar</td>\n",
       "      <td>5/7/2019 14:52</td>\n",
       "      <td>A Modern Les Paul for every player. #gibson #t...</td>\n",
       "    </tr>\n",
       "    <tr>\n",
       "      <th>1</th>\n",
       "      <td>gibsonguitar</td>\n",
       "      <td>5/6/2019 14:37</td>\n",
       "      <td>Be Relevant with Gibson’s Modern Collection. #...</td>\n",
       "    </tr>\n",
       "    <tr>\n",
       "      <th>2</th>\n",
       "      <td>gibsonguitar</td>\n",
       "      <td>5/5/2019 22:07</td>\n",
       "      <td>@BillyFGibbons of @ZZTop stopped by to try out...</td>\n",
       "    </tr>\n",
       "    <tr>\n",
       "      <th>3</th>\n",
       "      <td>gibsonguitar</td>\n",
       "      <td>5/4/2019 4:44</td>\n",
       "      <td>@BillyFGibbons of @ZZTop stopped by to try out...</td>\n",
       "    </tr>\n",
       "    <tr>\n",
       "      <th>4</th>\n",
       "      <td>gibsonguitar</td>\n",
       "      <td>5/3/2019 15:05</td>\n",
       "      <td>The Les Paul Standard 50's has a solid mahogan...</td>\n",
       "    </tr>\n",
       "    <tr>\n",
       "      <th>5</th>\n",
       "      <td>gibsonguitar</td>\n",
       "      <td>5/2/2019 19:46</td>\n",
       "      <td>Dive into the new Les Paul Standard ‘50s with ...</td>\n",
       "    </tr>\n",
       "    <tr>\n",
       "      <th>6</th>\n",
       "      <td>gibsonguitar</td>\n",
       "      <td>5/2/2019 15:25</td>\n",
       "      <td>A Classic Reborn. The new Les Paul Standard ‘5...</td>\n",
       "    </tr>\n",
       "    <tr>\n",
       "      <th>7</th>\n",
       "      <td>gibsonguitar</td>\n",
       "      <td>5/1/2019 22:10</td>\n",
       "      <td>The new Les Paul Junior Tobacco Burst and Les ...</td>\n",
       "    </tr>\n",
       "    <tr>\n",
       "      <th>8</th>\n",
       "      <td>gibsonguitar</td>\n",
       "      <td>5/1/2019 15:16</td>\n",
       "      <td>Want to win a Les Paul Standard 60’s from the ...</td>\n",
       "    </tr>\n",
       "    <tr>\n",
       "      <th>9</th>\n",
       "      <td>gibsonguitar</td>\n",
       "      <td>4/30/2019 23:09</td>\n",
       "      <td>1961 was just the beginning for the Gibson SG ...</td>\n",
       "    </tr>\n",
       "  </tbody>\n",
       "</table>\n",
       "</div>"
      ],
      "text/plain": [
       "         handle             time  \\\n",
       "0  gibsonguitar   5/7/2019 14:52   \n",
       "1  gibsonguitar   5/6/2019 14:37   \n",
       "2  gibsonguitar   5/5/2019 22:07   \n",
       "3  gibsonguitar    5/4/2019 4:44   \n",
       "4  gibsonguitar   5/3/2019 15:05   \n",
       "5  gibsonguitar   5/2/2019 19:46   \n",
       "6  gibsonguitar   5/2/2019 15:25   \n",
       "7  gibsonguitar   5/1/2019 22:10   \n",
       "8  gibsonguitar   5/1/2019 15:16   \n",
       "9  gibsonguitar  4/30/2019 23:09   \n",
       "\n",
       "                                               tweet  \n",
       "0  A Modern Les Paul for every player. #gibson #t...  \n",
       "1  Be Relevant with Gibson’s Modern Collection. #...  \n",
       "2  @BillyFGibbons of @ZZTop stopped by to try out...  \n",
       "3  @BillyFGibbons of @ZZTop stopped by to try out...  \n",
       "4  The Les Paul Standard 50's has a solid mahogan...  \n",
       "5  Dive into the new Les Paul Standard ‘50s with ...  \n",
       "6  A Classic Reborn. The new Les Paul Standard ‘5...  \n",
       "7  The new Les Paul Junior Tobacco Burst and Les ...  \n",
       "8  Want to win a Les Paul Standard 60’s from the ...  \n",
       "9  1961 was just the beginning for the Gibson SG ...  "
      ]
     },
     "execution_count": 4,
     "metadata": {},
     "output_type": "execute_result"
    }
   ],
   "source": [
    "df = pd.read_csv(\"data/sample_tweetsgibsong.csv\")\n",
    "df.head(10)"
   ]
  },
  {
   "cell_type": "code",
   "execution_count": 5,
   "metadata": {},
   "outputs": [
    {
     "data": {
      "text/html": [
       "<div>\n",
       "<style scoped>\n",
       "    .dataframe tbody tr th:only-of-type {\n",
       "        vertical-align: middle;\n",
       "    }\n",
       "\n",
       "    .dataframe tbody tr th {\n",
       "        vertical-align: top;\n",
       "    }\n",
       "\n",
       "    .dataframe thead th {\n",
       "        text-align: right;\n",
       "    }\n",
       "</style>\n",
       "<table border=\"1\" class=\"dataframe\">\n",
       "  <thead>\n",
       "    <tr style=\"text-align: right;\">\n",
       "      <th></th>\n",
       "      <th>handle</th>\n",
       "      <th>time</th>\n",
       "      <th>tweets</th>\n",
       "    </tr>\n",
       "  </thead>\n",
       "  <tbody>\n",
       "    <tr>\n",
       "      <th>0</th>\n",
       "      <td>Fender</td>\n",
       "      <td>5/7/2019 18:04</td>\n",
       "      <td>The Duff McKagan Deluxe Precision Bass was ins...</td>\n",
       "    </tr>\n",
       "    <tr>\n",
       "      <th>1</th>\n",
       "      <td>Fender</td>\n",
       "      <td>5/6/2019 22:19</td>\n",
       "      <td>@RibeiroR72 We announced the winners last week...</td>\n",
       "    </tr>\n",
       "    <tr>\n",
       "      <th>2</th>\n",
       "      <td>Fender</td>\n",
       "      <td>5/6/2019 21:32</td>\n",
       "      <td>A few great photos from the opening of the Fen...</td>\n",
       "    </tr>\n",
       "    <tr>\n",
       "      <th>3</th>\n",
       "      <td>Fender</td>\n",
       "      <td>5/6/2019 21:00</td>\n",
       "      <td>Nothing beats catching a few riffs on a Surf G...</td>\n",
       "    </tr>\n",
       "    <tr>\n",
       "      <th>4</th>\n",
       "      <td>Fender</td>\n",
       "      <td>5/6/2019 18:31</td>\n",
       "      <td>RT @rockhall: The Hoss. @muddyofficial preferr...</td>\n",
       "    </tr>\n",
       "    <tr>\n",
       "      <th>5</th>\n",
       "      <td>Fender</td>\n",
       "      <td>5/5/2019 16:00</td>\n",
       "      <td>Head to the Fender website to scope out the la...</td>\n",
       "    </tr>\n",
       "    <tr>\n",
       "      <th>6</th>\n",
       "      <td>Fender</td>\n",
       "      <td>5/4/2019 16:00</td>\n",
       "      <td>What vibes are you getting from this Surf Gree...</td>\n",
       "    </tr>\n",
       "    <tr>\n",
       "      <th>7</th>\n",
       "      <td>Fender</td>\n",
       "      <td>5/4/2019 11:00</td>\n",
       "      <td>So, who wants to see Mumford &amp;amp; Sons at @al...</td>\n",
       "    </tr>\n",
       "    <tr>\n",
       "      <th>8</th>\n",
       "      <td>Fender</td>\n",
       "      <td>5/3/2019 15:33</td>\n",
       "      <td>Fender at @thegreatescape will be epic and we ...</td>\n",
       "    </tr>\n",
       "    <tr>\n",
       "      <th>9</th>\n",
       "      <td>Fender</td>\n",
       "      <td>5/3/2019 15:02</td>\n",
       "      <td>Congrats @individual6827 @guynamedfawkes @Jone...</td>\n",
       "    </tr>\n",
       "  </tbody>\n",
       "</table>\n",
       "</div>"
      ],
      "text/plain": [
       "   handle            time                                             tweets\n",
       "0  Fender  5/7/2019 18:04  The Duff McKagan Deluxe Precision Bass was ins...\n",
       "1  Fender  5/6/2019 22:19  @RibeiroR72 We announced the winners last week...\n",
       "2  Fender  5/6/2019 21:32  A few great photos from the opening of the Fen...\n",
       "3  Fender  5/6/2019 21:00  Nothing beats catching a few riffs on a Surf G...\n",
       "4  Fender  5/6/2019 18:31  RT @rockhall: The Hoss. @muddyofficial preferr...\n",
       "5  Fender  5/5/2019 16:00  Head to the Fender website to scope out the la...\n",
       "6  Fender  5/4/2019 16:00  What vibes are you getting from this Surf Gree...\n",
       "7  Fender  5/4/2019 11:00  So, who wants to see Mumford &amp; Sons at @al...\n",
       "8  Fender  5/3/2019 15:33  Fender at @thegreatescape will be epic and we ...\n",
       "9  Fender  5/3/2019 15:02  Congrats @individual6827 @guynamedfawkes @Jone..."
      ]
     },
     "execution_count": 5,
     "metadata": {},
     "output_type": "execute_result"
    }
   ],
   "source": [
    "dff = pd.read_csv(\"data/sample_tweetsfender.csv\")\n",
    "dff.head(10)"
   ]
  },
  {
   "cell_type": "markdown",
   "metadata": {},
   "source": [
    "# Data Processing"
   ]
  },
  {
   "cell_type": "code",
   "execution_count": 6,
   "metadata": {},
   "outputs": [],
   "source": [
    "from nltk.corpus import stopwords\n",
    "stopwords = stopwords.words('english')"
   ]
  },
  {
   "cell_type": "code",
   "execution_count": 7,
   "metadata": {},
   "outputs": [],
   "source": [
    "df['cleaned'] = df['tweet']\n",
    "df['cleaned'] = df['cleaned'].str.replace('http\\S+|www.\\S+', '')\n",
    "df['cleaned'] = df['cleaned'].str.replace('\\d+', '')\n",
    "df['cleaned'] = df['cleaned'].str.replace('[^a-zA-Z]+', ' ')\n",
    "df['cleaned'] = df['cleaned'].str.findall('\\w{3,}').str.join(' ')\n",
    "df['cleaned'] = df['cleaned'].str.replace(r'\\b(\\w{1,3})\\b', '')\n",
    "df['cleaned'] = df['cleaned'].str.lower()\n",
    "df['cleaned'] = df['cleaned'].apply(lambda x: ' '.join([word for word in x.split() if word not in (stopwords)]))\n",
    "\n",
    "df['words'] = df['cleaned'].str.split()\n",
    "df['words'] = df['words'].apply(', '.join)\n"
   ]
  },
  {
   "cell_type": "code",
   "execution_count": 8,
   "metadata": {},
   "outputs": [],
   "source": [
    "dff['cleaned'] = dff['tweets']\n",
    "dff['cleaned'] = dff['cleaned'].str.replace('http\\S+|www.\\S+', '')\n",
    "dff['cleaned'] = dff['cleaned'].str.replace('\\d+', '')\n",
    "dff['cleaned'] = dff['cleaned'].str.replace('[^a-zA-Z]+', ' ')\n",
    "dff['cleaned'] = dff['cleaned'].str.findall('\\w{3,}').str.join(' ')\n",
    "dff['cleaned'] = dff['cleaned'].str.replace(r'\\b(\\w{1,3})\\b', '')\n",
    "dff['cleaned'] = dff['cleaned'].str.lower()\n",
    "dff['cleaned'] = dff['cleaned'].apply(lambda x: ' '.join([word for word in x.split() if word not in (stopwords)]))\n",
    "\n",
    "\n",
    "dff['words'] = dff['cleaned'].str.split()\n",
    "dff['words'] = dff['words'].apply(', '.join)\n"
   ]
  },
  {
   "cell_type": "markdown",
   "metadata": {},
   "source": [
    "# Text Analysis"
   ]
  },
  {
   "cell_type": "code",
   "execution_count": 9,
   "metadata": {},
   "outputs": [
    {
     "data": {
      "image/png": "[encoded data removed]",
      "text/plain": [
       "<Figure size 432x288 with 1 Axes>"
      ]
     },
     "metadata": {
      "needs_background": "light"
     },
     "output_type": "display_data"
    }
   ],
   "source": [
    "wordcloud = WordCloud().generate(' '.join(df['words']))\n",
    "plt.imshow(wordcloud)\n",
    "plt.axis(\"off\")\n",
    "plt.show()"
   ]
  },
  {
   "cell_type": "code",
   "execution_count": null,
   "metadata": {},
   "outputs": [
    {
     "data": {
      "image/png": "[encoded data removed]",
      "text/plain": [
       "<Figure size 432x288 with 1 Axes>"
      ]
     },
     "metadata": {
      "needs_background": "light"
     },
     "output_type": "display_data"
    }
   ],
   "source": [
    "wordcloud = WordCloud().generate(' '.join(dff['words']))\n",
    "plt.imshow(wordcloud)\n",
    "plt.axis(\"off\")\n",
    "plt.show()"
   ]
  },
  {
   "cell_type": "code",
   "execution_count": null,
   "metadata": {},
   "outputs": [],
   "source": [
    "from collections import Counter"
   ]
  },
  {
   "cell_type": "code",
   "execution_count": null,
   "metadata": {},
   "outputs": [
    {
     "data": {
      "text/html": [
       "<div>\n",
       "<style scoped>\n",
       "    .dataframe tbody tr th:only-of-type {\n",
       "        vertical-align: middle;\n",
       "    }\n",
       "\n",
       "    .dataframe tbody tr th {\n",
       "        vertical-align: top;\n",
       "    }\n",
       "\n",
       "    .dataframe thead th {\n",
       "        text-align: right;\n",
       "    }\n",
       "</style>\n",
       "<table border=\"1\" class=\"dataframe\">\n",
       "  <thead>\n",
       "    <tr style=\"text-align: right;\">\n",
       "      <th></th>\n",
       "      <th>0</th>\n",
       "      <th>1</th>\n",
       "    </tr>\n",
       "  </thead>\n",
       "  <tbody>\n",
       "    <tr>\n",
       "      <th>4</th>\n",
       "      <td>gibson</td>\n",
       "      <td>859</td>\n",
       "    </tr>\n",
       "    <tr>\n",
       "      <th>355</th>\n",
       "      <td>gibsonguitar</td>\n",
       "      <td>690</td>\n",
       "    </tr>\n",
       "    <tr>\n",
       "      <th>410</th>\n",
       "      <td>lespaul</td>\n",
       "      <td>273</td>\n",
       "    </tr>\n",
       "    <tr>\n",
       "      <th>53</th>\n",
       "      <td>guitar</td>\n",
       "      <td>247</td>\n",
       "    </tr>\n",
       "    <tr>\n",
       "      <th>245</th>\n",
       "      <td>customgibson</td>\n",
       "      <td>230</td>\n",
       "    </tr>\n",
       "    <tr>\n",
       "      <th>1</th>\n",
       "      <td>paul</td>\n",
       "      <td>229</td>\n",
       "    </tr>\n",
       "    <tr>\n",
       "      <th>6</th>\n",
       "      <td>onlyagibsonisgoodenough</td>\n",
       "      <td>173</td>\n",
       "    </tr>\n",
       "    <tr>\n",
       "      <th>199</th>\n",
       "      <td>namm</td>\n",
       "      <td>142</td>\n",
       "    </tr>\n",
       "    <tr>\n",
       "      <th>195</th>\n",
       "      <td>great</td>\n",
       "      <td>132</td>\n",
       "    </tr>\n",
       "    <tr>\n",
       "      <th>206</th>\n",
       "      <td>rock</td>\n",
       "      <td>120</td>\n",
       "    </tr>\n",
       "    <tr>\n",
       "      <th>80</th>\n",
       "      <td>custom</td>\n",
       "      <td>111</td>\n",
       "    </tr>\n",
       "    <tr>\n",
       "      <th>341</th>\n",
       "      <td>birthday</td>\n",
       "      <td>101</td>\n",
       "    </tr>\n",
       "    <tr>\n",
       "      <th>109</th>\n",
       "      <td>nashville</td>\n",
       "      <td>99</td>\n",
       "    </tr>\n",
       "    <tr>\n",
       "      <th>16</th>\n",
       "      <td>standard</td>\n",
       "      <td>97</td>\n",
       "    </tr>\n",
       "    <tr>\n",
       "      <th>1914</th>\n",
       "      <td>cakewalkinc</td>\n",
       "      <td>97</td>\n",
       "    </tr>\n",
       "    <tr>\n",
       "      <th>200</th>\n",
       "      <td>happy</td>\n",
       "      <td>96</td>\n",
       "    </tr>\n",
       "    <tr>\n",
       "      <th>1386</th>\n",
       "      <td>gibsonacoustic</td>\n",
       "      <td>94</td>\n",
       "    </tr>\n",
       "    <tr>\n",
       "      <th>184</th>\n",
       "      <td>today</td>\n",
       "      <td>91</td>\n",
       "    </tr>\n",
       "    <tr>\n",
       "      <th>865</th>\n",
       "      <td>time</td>\n",
       "      <td>91</td>\n",
       "    </tr>\n",
       "    <tr>\n",
       "      <th>1930</th>\n",
       "      <td>jobs</td>\n",
       "      <td>89</td>\n",
       "    </tr>\n",
       "  </tbody>\n",
       "</table>\n",
       "</div>"
      ],
      "text/plain": [
       "                            0    1\n",
       "4                      gibson  859\n",
       "355              gibsonguitar  690\n",
       "410                   lespaul  273\n",
       "53                     guitar  247\n",
       "245              customgibson  230\n",
       "1                        paul  229\n",
       "6     onlyagibsonisgoodenough  173\n",
       "199                      namm  142\n",
       "195                     great  132\n",
       "206                      rock  120\n",
       "80                     custom  111\n",
       "341                  birthday  101\n",
       "109                 nashville   99\n",
       "16                   standard   97\n",
       "1914              cakewalkinc   97\n",
       "200                     happy   96\n",
       "1386           gibsonacoustic   94\n",
       "184                     today   91\n",
       "865                      time   91\n",
       "1930                     jobs   89"
      ]
     },
     "execution_count": 12,
     "metadata": {},
     "output_type": "execute_result"
    }
   ],
   "source": [
    "fdist = list(Counter(\" \".join(df['cleaned']).split(\" \")).items())\n",
    "\n",
    "# convert to dataframe\n",
    "freq_word = []\n",
    "\n",
    "for k,v in fdist:\n",
    "    freq_word.append([k,v])\n",
    "\n",
    "wordlist = pd.DataFrame(freq_word)\n",
    "\n",
    "#\n",
    "wordlist.sort_values(1, ascending=False).head(20)"
   ]
  },
  {
   "cell_type": "code",
   "execution_count": null,
   "metadata": {},
   "outputs": [
    {
     "data": {
      "text/html": [
       "<div>\n",
       "<style scoped>\n",
       "    .dataframe tbody tr th:only-of-type {\n",
       "        vertical-align: middle;\n",
       "    }\n",
       "\n",
       "    .dataframe tbody tr th {\n",
       "        vertical-align: top;\n",
       "    }\n",
       "\n",
       "    .dataframe thead th {\n",
       "        text-align: right;\n",
       "    }\n",
       "</style>\n",
       "<table border=\"1\" class=\"dataframe\">\n",
       "  <thead>\n",
       "    <tr style=\"text-align: right;\">\n",
       "      <th></th>\n",
       "      <th>0</th>\n",
       "      <th>1</th>\n",
       "    </tr>\n",
       "  </thead>\n",
       "  <tbody>\n",
       "    <tr>\n",
       "      <th>19</th>\n",
       "      <td>fender</td>\n",
       "      <td>1152</td>\n",
       "    </tr>\n",
       "    <tr>\n",
       "      <th>39</th>\n",
       "      <td>guitar</td>\n",
       "      <td>316</td>\n",
       "    </tr>\n",
       "    <tr>\n",
       "      <th>90</th>\n",
       "      <td>check</td>\n",
       "      <td>187</td>\n",
       "    </tr>\n",
       "    <tr>\n",
       "      <th>240</th>\n",
       "      <td>happy</td>\n",
       "      <td>172</td>\n",
       "    </tr>\n",
       "    <tr>\n",
       "      <th>52</th>\n",
       "      <td>series</td>\n",
       "      <td>171</td>\n",
       "    </tr>\n",
       "    <tr>\n",
       "      <th>184</th>\n",
       "      <td>learn</td>\n",
       "      <td>167</td>\n",
       "    </tr>\n",
       "    <tr>\n",
       "      <th>4</th>\n",
       "      <td>bass</td>\n",
       "      <td>159</td>\n",
       "    </tr>\n",
       "    <tr>\n",
       "      <th>201</th>\n",
       "      <td>stratocaster</td>\n",
       "      <td>132</td>\n",
       "    </tr>\n",
       "    <tr>\n",
       "      <th>40</th>\n",
       "      <td>telecaster</td>\n",
       "      <td>128</td>\n",
       "    </tr>\n",
       "    <tr>\n",
       "      <th>178</th>\n",
       "      <td>playing</td>\n",
       "      <td>126</td>\n",
       "    </tr>\n",
       "    <tr>\n",
       "      <th>118</th>\n",
       "      <td>play</td>\n",
       "      <td>114</td>\n",
       "    </tr>\n",
       "    <tr>\n",
       "      <th>287</th>\n",
       "      <td>shop</td>\n",
       "      <td>109</td>\n",
       "    </tr>\n",
       "    <tr>\n",
       "      <th>433</th>\n",
       "      <td>love</td>\n",
       "      <td>100</td>\n",
       "    </tr>\n",
       "    <tr>\n",
       "      <th>216</th>\n",
       "      <td>favorite</td>\n",
       "      <td>97</td>\n",
       "    </tr>\n",
       "    <tr>\n",
       "      <th>16</th>\n",
       "      <td>great</td>\n",
       "      <td>87</td>\n",
       "    </tr>\n",
       "    <tr>\n",
       "      <th>761</th>\n",
       "      <td>take</td>\n",
       "      <td>83</td>\n",
       "    </tr>\n",
       "    <tr>\n",
       "      <th>205</th>\n",
       "      <td>strat</td>\n",
       "      <td>81</td>\n",
       "    </tr>\n",
       "    <tr>\n",
       "      <th>53</th>\n",
       "      <td>acoustic</td>\n",
       "      <td>81</td>\n",
       "    </tr>\n",
       "    <tr>\n",
       "      <th>171</th>\n",
       "      <td>player</td>\n",
       "      <td>78</td>\n",
       "    </tr>\n",
       "    <tr>\n",
       "      <th>774</th>\n",
       "      <td>custom</td>\n",
       "      <td>77</td>\n",
       "    </tr>\n",
       "  </tbody>\n",
       "</table>\n",
       "</div>"
      ],
      "text/plain": [
       "                0     1\n",
       "19         fender  1152\n",
       "39         guitar   316\n",
       "90          check   187\n",
       "240         happy   172\n",
       "52         series   171\n",
       "184         learn   167\n",
       "4            bass   159\n",
       "201  stratocaster   132\n",
       "40     telecaster   128\n",
       "178       playing   126\n",
       "118          play   114\n",
       "287          shop   109\n",
       "433          love   100\n",
       "216      favorite    97\n",
       "16          great    87\n",
       "761          take    83\n",
       "205         strat    81\n",
       "53       acoustic    81\n",
       "171        player    78\n",
       "774        custom    77"
      ]
     },
     "execution_count": 13,
     "metadata": {},
     "output_type": "execute_result"
    }
   ],
   "source": [
    "fdist = list(Counter(\" \".join(dff['cleaned']).split(\" \")).items())\n",
    "\n",
    "# convert to dataframe\n",
    "freq_word = []\n",
    "\n",
    "for k,v in fdist:\n",
    "    freq_word.append([k,v])\n",
    "\n",
    "wordlist = pd.DataFrame(freq_word)\n",
    "\n",
    "#\n",
    "wordlist.sort_values(1, ascending=False).head(20)"
   ]
  },
  {
   "cell_type": "markdown",
   "metadata": {},
   "source": [
    "# Sentiment Analysis"
   ]
  },
  {
   "cell_type": "markdown",
   "metadata": {},
   "source": [
    "## Vader Sentiment"
   ]
  },
  {
   "cell_type": "code",
   "execution_count": null,
   "metadata": {},
   "outputs": [],
   "source": [
    "vs = SentimentIntensityAnalyzer()"
   ]
  },
  {
   "cell_type": "code",
   "execution_count": null,
   "metadata": {},
   "outputs": [
    {
     "data": {
      "text/html": [
       "<div>\n",
       "<style scoped>\n",
       "    .dataframe tbody tr th:only-of-type {\n",
       "        vertical-align: middle;\n",
       "    }\n",
       "\n",
       "    .dataframe tbody tr th {\n",
       "        vertical-align: top;\n",
       "    }\n",
       "\n",
       "    .dataframe thead th {\n",
       "        text-align: right;\n",
       "    }\n",
       "</style>\n",
       "<table border=\"1\" class=\"dataframe\">\n",
       "  <thead>\n",
       "    <tr style=\"text-align: right;\">\n",
       "      <th></th>\n",
       "      <th>handle</th>\n",
       "      <th>time</th>\n",
       "      <th>tweet</th>\n",
       "      <th>cleaned</th>\n",
       "      <th>words</th>\n",
       "      <th>score</th>\n",
       "    </tr>\n",
       "  </thead>\n",
       "  <tbody>\n",
       "    <tr>\n",
       "      <th>0</th>\n",
       "      <td>gibsonguitar</td>\n",
       "      <td>5/7/2019 14:52</td>\n",
       "      <td>A Modern Les Paul for every player. #gibson #t...</td>\n",
       "      <td>modern paul every player gibson theoriginal on...</td>\n",
       "      <td>modern, paul, every, player, gibson, theorigin...</td>\n",
       "      <td>0.0000</td>\n",
       "    </tr>\n",
       "    <tr>\n",
       "      <th>1</th>\n",
       "      <td>gibsonguitar</td>\n",
       "      <td>5/6/2019 14:37</td>\n",
       "      <td>Be Relevant with Gibson’s Modern Collection. #...</td>\n",
       "      <td>relevant gibson modern collection gibson theor...</td>\n",
       "      <td>relevant, gibson, modern, collection, gibson, ...</td>\n",
       "      <td>0.0000</td>\n",
       "    </tr>\n",
       "    <tr>\n",
       "      <th>2</th>\n",
       "      <td>gibsonguitar</td>\n",
       "      <td>5/5/2019 22:07</td>\n",
       "      <td>@BillyFGibbons of @ZZTop stopped by to try out...</td>\n",
       "      <td>billyfgibbons zztop stopped paul goldtop reiss...</td>\n",
       "      <td>billyfgibbons, zztop, stopped, paul, goldtop, ...</td>\n",
       "      <td>-0.2263</td>\n",
       "    </tr>\n",
       "    <tr>\n",
       "      <th>3</th>\n",
       "      <td>gibsonguitar</td>\n",
       "      <td>5/4/2019 4:44</td>\n",
       "      <td>@BillyFGibbons of @ZZTop stopped by to try out...</td>\n",
       "      <td>billyfgibbons zztop stopped paul goldtop reiss...</td>\n",
       "      <td>billyfgibbons, zztop, stopped, paul, goldtop, ...</td>\n",
       "      <td>-0.2263</td>\n",
       "    </tr>\n",
       "    <tr>\n",
       "      <th>4</th>\n",
       "      <td>gibsonguitar</td>\n",
       "      <td>5/3/2019 15:05</td>\n",
       "      <td>The Les Paul Standard 50's has a solid mahogan...</td>\n",
       "      <td>paul standard solid mahogany body maple rounde...</td>\n",
       "      <td>paul, standard, solid, mahogany, body, maple, ...</td>\n",
       "      <td>0.1531</td>\n",
       "    </tr>\n",
       "    <tr>\n",
       "      <th>5</th>\n",
       "      <td>gibsonguitar</td>\n",
       "      <td>5/2/2019 19:46</td>\n",
       "      <td>Dive into the new Les Paul Standard ‘50s with ...</td>\n",
       "      <td>dive paul standard nallecolt vintagetrouble he...</td>\n",
       "      <td>dive, paul, standard, nallecolt, vintagetroubl...</td>\n",
       "      <td>0.0000</td>\n",
       "    </tr>\n",
       "    <tr>\n",
       "      <th>6</th>\n",
       "      <td>gibsonguitar</td>\n",
       "      <td>5/2/2019 15:25</td>\n",
       "      <td>A Classic Reborn. The new Les Paul Standard ‘5...</td>\n",
       "      <td>classic reborn paul standard returns classic d...</td>\n",
       "      <td>classic, reborn, paul, standard, returns, clas...</td>\n",
       "      <td>0.3400</td>\n",
       "    </tr>\n",
       "    <tr>\n",
       "      <th>7</th>\n",
       "      <td>gibsonguitar</td>\n",
       "      <td>5/1/2019 22:10</td>\n",
       "      <td>The new Les Paul Junior Tobacco Burst and Les ...</td>\n",
       "      <td>paul junior tobacco burst paul special yellow ...</td>\n",
       "      <td>paul, junior, tobacco, burst, paul, special, y...</td>\n",
       "      <td>0.4019</td>\n",
       "    </tr>\n",
       "    <tr>\n",
       "      <th>8</th>\n",
       "      <td>gibsonguitar</td>\n",
       "      <td>5/1/2019 15:16</td>\n",
       "      <td>Want to win a Les Paul Standard 60’s from the ...</td>\n",
       "      <td>want paul standard collection follow link chance</td>\n",
       "      <td>want, paul, standard, collection, follow, link...</td>\n",
       "      <td>0.3182</td>\n",
       "    </tr>\n",
       "    <tr>\n",
       "      <th>9</th>\n",
       "      <td>gibsonguitar</td>\n",
       "      <td>4/30/2019 23:09</td>\n",
       "      <td>1961 was just the beginning for the Gibson SG ...</td>\n",
       "      <td>beginning gibson gibson theoriginal onlyagibso...</td>\n",
       "      <td>beginning, gibson, gibson, theoriginal, onlyag...</td>\n",
       "      <td>0.0000</td>\n",
       "    </tr>\n",
       "  </tbody>\n",
       "</table>\n",
       "</div>"
      ],
      "text/plain": [
       "         handle             time  \\\n",
       "0  gibsonguitar   5/7/2019 14:52   \n",
       "1  gibsonguitar   5/6/2019 14:37   \n",
       "2  gibsonguitar   5/5/2019 22:07   \n",
       "3  gibsonguitar    5/4/2019 4:44   \n",
       "4  gibsonguitar   5/3/2019 15:05   \n",
       "5  gibsonguitar   5/2/2019 19:46   \n",
       "6  gibsonguitar   5/2/2019 15:25   \n",
       "7  gibsonguitar   5/1/2019 22:10   \n",
       "8  gibsonguitar   5/1/2019 15:16   \n",
       "9  gibsonguitar  4/30/2019 23:09   \n",
       "\n",
       "                                               tweet  \\\n",
       "0  A Modern Les Paul for every player. #gibson #t...   \n",
       "1  Be Relevant with Gibson’s Modern Collection. #...   \n",
       "2  @BillyFGibbons of @ZZTop stopped by to try out...   \n",
       "3  @BillyFGibbons of @ZZTop stopped by to try out...   \n",
       "4  The Les Paul Standard 50's has a solid mahogan...   \n",
       "5  Dive into the new Les Paul Standard ‘50s with ...   \n",
       "6  A Classic Reborn. The new Les Paul Standard ‘5...   \n",
       "7  The new Les Paul Junior Tobacco Burst and Les ...   \n",
       "8  Want to win a Les Paul Standard 60’s from the ...   \n",
       "9  1961 was just the beginning for the Gibson SG ...   \n",
       "\n",
       "                                             cleaned  \\\n",
       "0  modern paul every player gibson theoriginal on...   \n",
       "1  relevant gibson modern collection gibson theor...   \n",
       "2  billyfgibbons zztop stopped paul goldtop reiss...   \n",
       "3  billyfgibbons zztop stopped paul goldtop reiss...   \n",
       "4  paul standard solid mahogany body maple rounde...   \n",
       "5  dive paul standard nallecolt vintagetrouble he...   \n",
       "6  classic reborn paul standard returns classic d...   \n",
       "7  paul junior tobacco burst paul special yellow ...   \n",
       "8   want paul standard collection follow link chance   \n",
       "9  beginning gibson gibson theoriginal onlyagibso...   \n",
       "\n",
       "                                               words   score  \n",
       "0  modern, paul, every, player, gibson, theorigin...  0.0000  \n",
       "1  relevant, gibson, modern, collection, gibson, ...  0.0000  \n",
       "2  billyfgibbons, zztop, stopped, paul, goldtop, ... -0.2263  \n",
       "3  billyfgibbons, zztop, stopped, paul, goldtop, ... -0.2263  \n",
       "4  paul, standard, solid, mahogany, body, maple, ...  0.1531  \n",
       "5  dive, paul, standard, nallecolt, vintagetroubl...  0.0000  \n",
       "6  classic, reborn, paul, standard, returns, clas...  0.3400  \n",
       "7  paul, junior, tobacco, burst, paul, special, y...  0.4019  \n",
       "8  want, paul, standard, collection, follow, link...  0.3182  \n",
       "9  beginning, gibson, gibson, theoriginal, onlyag...  0.0000  "
      ]
     },
     "execution_count": 15,
     "metadata": {},
     "output_type": "execute_result"
    }
   ],
   "source": [
    "df['score'] = df['cleaned'].apply(lambda x: vs.polarity_scores(x)['compound'])\n",
    "df.head(10)"
   ]
  },
  {
   "cell_type": "code",
   "execution_count": null,
   "metadata": {},
   "outputs": [
    {
     "data": {
      "text/plain": [
       "0.2331147566719001"
      ]
     },
     "execution_count": 16,
     "metadata": {},
     "output_type": "execute_result"
    }
   ],
   "source": [
    "df[\"score\"].mean()"
   ]
  },
  {
   "cell_type": "code",
   "execution_count": null,
   "metadata": {},
   "outputs": [
    {
     "data": {
      "text/plain": [
       "<matplotlib.axes._subplots.AxesSubplot at 0x21ad2f2e1d0>"
      ]
     },
     "execution_count": 17,
     "metadata": {},
     "output_type": "execute_result"
    },
    {
     "data": {
      "image/png": "[encoded data removed]",
      "text/plain": [
       "<Figure size 432x288 with 1 Axes>"
      ]
     },
     "metadata": {
      "needs_background": "light"
     },
     "output_type": "display_data"
    }
   ],
   "source": [
    "df['score'].plot.hist()"
   ]
  },
  {
   "cell_type": "code",
   "execution_count": null,
   "metadata": {},
   "outputs": [
    {
     "data": {
      "text/html": [
       "<div>\n",
       "<style scoped>\n",
       "    .dataframe tbody tr th:only-of-type {\n",
       "        vertical-align: middle;\n",
       "    }\n",
       "\n",
       "    .dataframe tbody tr th {\n",
       "        vertical-align: top;\n",
       "    }\n",
       "\n",
       "    .dataframe thead th {\n",
       "        text-align: right;\n",
       "    }\n",
       "</style>\n",
       "<table border=\"1\" class=\"dataframe\">\n",
       "  <thead>\n",
       "    <tr style=\"text-align: right;\">\n",
       "      <th></th>\n",
       "      <th>handle</th>\n",
       "      <th>time</th>\n",
       "      <th>tweets</th>\n",
       "      <th>cleaned</th>\n",
       "      <th>words</th>\n",
       "      <th>score</th>\n",
       "    </tr>\n",
       "  </thead>\n",
       "  <tbody>\n",
       "    <tr>\n",
       "      <th>0</th>\n",
       "      <td>Fender</td>\n",
       "      <td>5/7/2019 18:04</td>\n",
       "      <td>The Duff McKagan Deluxe Precision Bass was ins...</td>\n",
       "      <td>duff mckagan deluxe precision bass inspired ja...</td>\n",
       "      <td>duff, mckagan, deluxe, precision, bass, inspir...</td>\n",
       "      <td>0.8074</td>\n",
       "    </tr>\n",
       "    <tr>\n",
       "      <th>1</th>\n",
       "      <td>Fender</td>\n",
       "      <td>5/6/2019 22:19</td>\n",
       "      <td>@RibeiroR72 We announced the winners last week...</td>\n",
       "      <td>ribeiror announced winners last week</td>\n",
       "      <td>ribeiror, announced, winners, last, week</td>\n",
       "      <td>0.4767</td>\n",
       "    </tr>\n",
       "    <tr>\n",
       "      <th>2</th>\n",
       "      <td>Fender</td>\n",
       "      <td>5/6/2019 21:32</td>\n",
       "      <td>A few great photos from the opening of the Fen...</td>\n",
       "      <td>great photos opening fender exhibit museumfull...</td>\n",
       "      <td>great, photos, opening, fender, exhibit, museu...</td>\n",
       "      <td>0.6249</td>\n",
       "    </tr>\n",
       "    <tr>\n",
       "      <th>3</th>\n",
       "      <td>Fender</td>\n",
       "      <td>5/6/2019 21:00</td>\n",
       "      <td>Nothing beats catching a few riffs on a Surf G...</td>\n",
       "      <td>nothing beats catching riffs surf green jaguar...</td>\n",
       "      <td>nothing, beats, catching, riffs, surf, green, ...</td>\n",
       "      <td>0.3182</td>\n",
       "    </tr>\n",
       "    <tr>\n",
       "      <th>4</th>\n",
       "      <td>Fender</td>\n",
       "      <td>5/6/2019 18:31</td>\n",
       "      <td>RT @rockhall: The Hoss. @muddyofficial preferr...</td>\n",
       "      <td>rockhall hoss muddyofficial preferred guitar f...</td>\n",
       "      <td>rockhall, hoss, muddyofficial, preferred, guit...</td>\n",
       "      <td>0.4215</td>\n",
       "    </tr>\n",
       "    <tr>\n",
       "      <th>5</th>\n",
       "      <td>Fender</td>\n",
       "      <td>5/5/2019 16:00</td>\n",
       "      <td>Head to the Fender website to scope out the la...</td>\n",
       "      <td>head fender website scope latest additions cal...</td>\n",
       "      <td>head, fender, website, scope, latest, addition...</td>\n",
       "      <td>0.0000</td>\n",
       "    </tr>\n",
       "    <tr>\n",
       "      <th>6</th>\n",
       "      <td>Fender</td>\n",
       "      <td>5/4/2019 16:00</td>\n",
       "      <td>What vibes are you getting from this Surf Gree...</td>\n",
       "      <td>vibes getting surf green squier classic vibe j...</td>\n",
       "      <td>vibes, getting, surf, green, squier, classic, ...</td>\n",
       "      <td>0.0000</td>\n",
       "    </tr>\n",
       "    <tr>\n",
       "      <th>7</th>\n",
       "      <td>Fender</td>\n",
       "      <td>5/4/2019 11:00</td>\n",
       "      <td>So, who wants to see Mumford &amp;amp; Sons at @al...</td>\n",
       "      <td>wants mumford sons allpointseastuk june talkin...</td>\n",
       "      <td>wants, mumford, sons, allpointseastuk, june, t...</td>\n",
       "      <td>0.0000</td>\n",
       "    </tr>\n",
       "    <tr>\n",
       "      <th>8</th>\n",
       "      <td>Fender</td>\n",
       "      <td>5/3/2019 15:33</td>\n",
       "      <td>Fender at @thegreatescape will be epic and we ...</td>\n",
       "      <td>fender thegreatescape epic wait next week market</td>\n",
       "      <td>fender, thegreatescape, epic, wait, next, week...</td>\n",
       "      <td>0.0000</td>\n",
       "    </tr>\n",
       "    <tr>\n",
       "      <th>9</th>\n",
       "      <td>Fender</td>\n",
       "      <td>5/3/2019 15:02</td>\n",
       "      <td>Congrats @individual6827 @guynamedfawkes @Jone...</td>\n",
       "      <td>congrats individual guynamedfawkes jonesdan de...</td>\n",
       "      <td>congrats, individual, guynamedfawkes, jonesdan...</td>\n",
       "      <td>0.6908</td>\n",
       "    </tr>\n",
       "  </tbody>\n",
       "</table>\n",
       "</div>"
      ],
      "text/plain": [
       "   handle            time                                             tweets  \\\n",
       "0  Fender  5/7/2019 18:04  The Duff McKagan Deluxe Precision Bass was ins...   \n",
       "1  Fender  5/6/2019 22:19  @RibeiroR72 We announced the winners last week...   \n",
       "2  Fender  5/6/2019 21:32  A few great photos from the opening of the Fen...   \n",
       "3  Fender  5/6/2019 21:00  Nothing beats catching a few riffs on a Surf G...   \n",
       "4  Fender  5/6/2019 18:31  RT @rockhall: The Hoss. @muddyofficial preferr...   \n",
       "5  Fender  5/5/2019 16:00  Head to the Fender website to scope out the la...   \n",
       "6  Fender  5/4/2019 16:00  What vibes are you getting from this Surf Gree...   \n",
       "7  Fender  5/4/2019 11:00  So, who wants to see Mumford &amp; Sons at @al...   \n",
       "8  Fender  5/3/2019 15:33  Fender at @thegreatescape will be epic and we ...   \n",
       "9  Fender  5/3/2019 15:02  Congrats @individual6827 @guynamedfawkes @Jone...   \n",
       "\n",
       "                                             cleaned  \\\n",
       "0  duff mckagan deluxe precision bass inspired ja...   \n",
       "1               ribeiror announced winners last week   \n",
       "2  great photos opening fender exhibit museumfull...   \n",
       "3  nothing beats catching riffs surf green jaguar...   \n",
       "4  rockhall hoss muddyofficial preferred guitar f...   \n",
       "5  head fender website scope latest additions cal...   \n",
       "6  vibes getting surf green squier classic vibe j...   \n",
       "7  wants mumford sons allpointseastuk june talkin...   \n",
       "8   fender thegreatescape epic wait next week market   \n",
       "9  congrats individual guynamedfawkes jonesdan de...   \n",
       "\n",
       "                                               words   score  \n",
       "0  duff, mckagan, deluxe, precision, bass, inspir...  0.8074  \n",
       "1           ribeiror, announced, winners, last, week  0.4767  \n",
       "2  great, photos, opening, fender, exhibit, museu...  0.6249  \n",
       "3  nothing, beats, catching, riffs, surf, green, ...  0.3182  \n",
       "4  rockhall, hoss, muddyofficial, preferred, guit...  0.4215  \n",
       "5  head, fender, website, scope, latest, addition...  0.0000  \n",
       "6  vibes, getting, surf, green, squier, classic, ...  0.0000  \n",
       "7  wants, mumford, sons, allpointseastuk, june, t...  0.0000  \n",
       "8  fender, thegreatescape, epic, wait, next, week...  0.0000  \n",
       "9  congrats, individual, guynamedfawkes, jonesdan...  0.6908  "
      ]
     },
     "execution_count": 18,
     "metadata": {},
     "output_type": "execute_result"
    }
   ],
   "source": [
    "dff['score'] = dff['cleaned'].apply(lambda x: vs.polarity_scores(x)['compound'])\n",
    "dff.head(10)"
   ]
  },
  {
   "cell_type": "code",
   "execution_count": null,
   "metadata": {},
   "outputs": [
    {
     "data": {
      "text/plain": [
       "0.2644461181565117"
      ]
     },
     "execution_count": 19,
     "metadata": {},
     "output_type": "execute_result"
    }
   ],
   "source": [
    "dff[\"score\"].mean()"
   ]
  },
  {
   "cell_type": "code",
   "execution_count": null,
   "metadata": {},
   "outputs": [
    {
     "data": {
      "text/plain": [
       "<matplotlib.axes._subplots.AxesSubplot at 0x21ad2b5c0f0>"
      ]
     },
     "execution_count": 20,
     "metadata": {},
     "output_type": "execute_result"
    },
    {
     "data": {
      "image/png": "[encoded data removed]",
      "text/plain": [
       "<Figure size 432x288 with 1 Axes>"
      ]
     },
     "metadata": {
      "needs_background": "light"
     },
     "output_type": "display_data"
    }
   ],
   "source": [
    "dff['score'].plot.hist()"
   ]
  },
  {
   "cell_type": "markdown",
   "metadata": {},
   "source": [
    "# Topic Modeling"
   ]
  },
  {
   "cell_type": "code",
   "execution_count": null,
   "metadata": {},
   "outputs": [],
   "source": [
    "import nltk\n",
    "from nltk.corpus import stopwords\n",
    "from nltk.stem.wordnet import WordNetLemmatizer\n",
    "from nltk.stem.porter import PorterStemmer\n",
    "import re\n",
    "\n",
    "import gensim\n",
    "from gensim.corpora import Dictionary\n",
    "from gensim.models import ldamodel\n",
    "from gensim import corpora, models, similarities\n",
    "\n",
    "from gensim.models.coherencemodel import CoherenceModel\n",
    "from gensim.models.wrappers import LdaVowpalWabbit, LdaMallet\n",
    "\n",
    "import numpy\n",
    "import matplotlib.pyplot as plt\n",
    "%matplotlib inline\n",
    "\n",
    "import warnings\n",
    "warnings.filterwarnings(\"ignore\") "
   ]
  },
  {
   "cell_type": "code",
   "execution_count": null,
   "metadata": {},
   "outputs": [
    {
     "data": {
      "text/plain": [
       "3185"
      ]
     },
     "execution_count": 22,
     "metadata": {},
     "output_type": "execute_result"
    }
   ],
   "source": [
    "len(df)"
   ]
  },
  {
   "cell_type": "code",
   "execution_count": null,
   "metadata": {},
   "outputs": [
    {
     "data": {
      "text/plain": [
       "3233"
      ]
     },
     "execution_count": 23,
     "metadata": {},
     "output_type": "execute_result"
    }
   ],
   "source": [
    "len(dff)"
   ]
  },
  {
   "cell_type": "code",
   "execution_count": null,
   "metadata": {},
   "outputs": [],
   "source": [
    "df1= df.head(2000)"
   ]
  },
  {
   "cell_type": "code",
   "execution_count": null,
   "metadata": {},
   "outputs": [],
   "source": [
    "dff1= dff.head(2000)"
   ]
  },
  {
   "cell_type": "code",
   "execution_count": null,
   "metadata": {},
   "outputs": [
    {
     "data": {
      "text/plain": [
       "0    modern paul every player gibson theoriginal on...\n",
       "Name: cleaned, dtype: object"
      ]
     },
     "execution_count": 26,
     "metadata": {},
     "output_type": "execute_result"
    }
   ],
   "source": [
    "df1 = df1['cleaned']\n",
    "df1.head(1)"
   ]
  },
  {
   "cell_type": "code",
   "execution_count": null,
   "metadata": {},
   "outputs": [
    {
     "data": {
      "text/plain": [
       "0    duff mckagan deluxe precision bass inspired ja...\n",
       "Name: cleaned, dtype: object"
      ]
     },
     "execution_count": 27,
     "metadata": {},
     "output_type": "execute_result"
    }
   ],
   "source": [
    "dff1 = dff1['cleaned']\n",
    "dff1.head(1)"
   ]
  },
  {
   "cell_type": "code",
   "execution_count": null,
   "metadata": {},
   "outputs": [
    {
     "data": {
      "text/plain": [
       "2000"
      ]
     },
     "execution_count": 28,
     "metadata": {},
     "output_type": "execute_result"
    }
   ],
   "source": [
    "texts = df1.values\n",
    "len(texts)"
   ]
  },
  {
   "cell_type": "code",
   "execution_count": null,
   "metadata": {},
   "outputs": [
    {
     "name": "stdout",
     "output_type": "stream",
     "text": [
      "modern paul every player gibson theoriginal onlyagibsonisgoodenough\n",
      "relevant gibson modern collection gibson theoriginal onlyagibsonisgoodenough\n"
     ]
    }
   ],
   "source": [
    "for i in texts[:2]:\n",
    "    print(i)"
   ]
  },
  {
   "cell_type": "code",
   "execution_count": null,
   "metadata": {},
   "outputs": [],
   "source": [
    "# Remove useless numbers and alphanumerical words\n",
    "documents = [ re.sub(\"[^a-zA-Z0-9]\", \" \", document) for document in texts]\n",
    "\n",
    "# tokenize\n",
    "texts = [  document.lower().split() for document in documents ]\n",
    "\n",
    "# stemming words: having --> have; friends --> friend\n",
    "lmtzr = WordNetLemmatizer()\n",
    "texts = [ [ lmtzr.lemmatize(word) for word in tokens   ]  for tokens in texts     ]\n",
    "\n",
    "#porter_stemmer = PorterStemmer()\n",
    "#texts = [[porter_stemmer.stem(word) for word in text ] for text in texts]\n",
    "\n",
    "# remove common words \n",
    "stoplist = stopwords.words('english')\n",
    "texts = [[word for word in tokens if word not in stoplist ] for tokens in texts]\n",
    "\n",
    "#remove short words\n",
    "texts = [[word for word in tokens if len(word) >= 3] for tokens in texts]"
   ]
  },
  {
   "cell_type": "code",
   "execution_count": null,
   "metadata": {},
   "outputs": [
    {
     "data": {
      "text/plain": [
       "3495"
      ]
     },
     "execution_count": 31,
     "metadata": {},
     "output_type": "execute_result"
    }
   ],
   "source": [
    "dictionary = Dictionary(texts)\n",
    "dictionary.save('data/gibson.dict')  # store the dictionary, for future reference\n",
    "\n",
    "len(dictionary)"
   ]
  },
  {
   "cell_type": "code",
   "execution_count": null,
   "metadata": {},
   "outputs": [
    {
     "data": {
      "text/plain": [
       "553"
      ]
     },
     "execution_count": 32,
     "metadata": {},
     "output_type": "execute_result"
    }
   ],
   "source": [
    "## Remove rare and common tokens.\n",
    "# ignore words that appear in less than 5 documents or more than 50% documents (remove too frequent & infrequent words) - an optional step\n",
    "dictionary.filter_extremes(no_below=5, no_above=0.5) #https://radimrehurek.com/gensim/corpora/dictionary.html#gensim.corpora.dictionary.Dictionary.filter_extremes\n",
    "len(dictionary)"
   ]
  },
  {
   "cell_type": "code",
   "execution_count": null,
   "metadata": {},
   "outputs": [
    {
     "data": {
      "text/plain": [
       "2000"
      ]
     },
     "execution_count": 33,
     "metadata": {},
     "output_type": "execute_result"
    }
   ],
   "source": [
    "corpus = [dictionary.doc2bow(text) for text in texts]\n",
    "corpora.MmCorpus.serialize('data/gibson.mm', corpus)  # store to disk, for later use  # store to disk, for later use\n",
    "len(corpus)"
   ]
  },
  {
   "cell_type": "code",
   "execution_count": null,
   "metadata": {},
   "outputs": [
    {
     "name": "stdout",
     "output_type": "stream",
     "text": [
      "Number of unique tokens: 553\n",
      "Number of documents: 2000\n"
     ]
    }
   ],
   "source": [
    "print(('Number of unique tokens: %d' % len(dictionary)))\n",
    "print(('Number of documents: %d' % len(corpus)))"
   ]
  },
  {
   "cell_type": "code",
   "execution_count": null,
   "metadata": {},
   "outputs": [
    {
     "name": "stdout",
     "output_type": "stream",
     "text": [
      "-13.232288169875247\n"
     ]
    }
   ],
   "source": [
    "from gensim.models.coherencemodel import CoherenceModel\n",
    "from gensim.models.wrappers import LdaVowpalWabbit, LdaMallet\n",
    "\n",
    "# setting random seed to get the same results each time. Remove this line for HW\n",
    "numpy.random.seed(1)\n",
    "for k in range(2, 10):\n",
    "    goodLdaModel = ldamodel.LdaModel(\n",
    "        corpus=corpus, id2word=dictionary, num_topics=k, passes=50)\n",
    "    goodcm = CoherenceModel(model=goodLdaModel, corpus=corpus,\n",
    "                            dictionary=dictionary, coherence='u_mass')\n",
    "    print(goodcm.get_coherence())"
   ]
  },
  {
   "cell_type": "code",
   "execution_count": null,
   "metadata": {},
   "outputs": [],
   "source": [
    "numpy.random.seed(1)\n",
    "model = ldamodel.LdaModel(corpus, id2word=dictionary, num_topics=12,passes= 20)\n",
    "                                    "
   ]
  },
  {
   "cell_type": "code",
   "execution_count": null,
   "metadata": {},
   "outputs": [],
   "source": [
    "model.save('data/lda.model')"
   ]
  },
  {
   "cell_type": "code",
   "execution_count": null,
   "metadata": {},
   "outputs": [],
   "source": [
    "model.show_topics(num_topics=12)"
   ]
  },
  {
   "cell_type": "code",
   "execution_count": null,
   "metadata": {},
   "outputs": [],
   "source": [
    "lda_corpus = model[corpus]\n",
    "\n",
    "results = []\n",
    "for i in lda_corpus:\n",
    "    \n",
    "    results.append(i)\n"
   ]
  },
  {
   "cell_type": "code",
   "execution_count": null,
   "metadata": {},
   "outputs": [],
   "source": [
    "toptopic = [max(collection, key=lambda x: x[1])[0] for collection in results]\n",
    "toptopic[:5]"
   ]
  },
  {
   "cell_type": "code",
   "execution_count": null,
   "metadata": {},
   "outputs": [],
   "source": [
    "toptopic = pd.DataFrame(toptopic)\n",
    "documents = pd.DataFrame(documents)\n",
    "documents = documents.rename(columns={0: 'documents'})\n",
    "summary = documents.join(toptopic)\n",
    "summary.head()"
   ]
  },
  {
   "cell_type": "code",
   "execution_count": null,
   "metadata": {},
   "outputs": [],
   "source": []
  },
  {
   "cell_type": "code",
   "execution_count": null,
   "metadata": {},
   "outputs": [],
   "source": [
    "import pyLDAvis\n",
    "import pyLDAvis.gensim  # don't skip this\n",
    "import matplotlib.pyplot as plt\n",
    "%matplotlib inline"
   ]
  },
  {
   "cell_type": "code",
   "execution_count": null,
   "metadata": {},
   "outputs": [],
   "source": [
    "pyLDAvis.enable_notebook()\n",
    "vis = pyLDAvis.gensim.prepare(model, corpus, dictionary)\n",
    "vis"
   ]
  },
  {
   "cell_type": "code",
   "execution_count": null,
   "metadata": {},
   "outputs": [],
   "source": [
    "texts1 = dff1.values\n",
    "len(texts1)"
   ]
  },
  {
   "cell_type": "code",
   "execution_count": null,
   "metadata": {},
   "outputs": [],
   "source": [
    "for i in texts1[:2]:\n",
    "    print(i)"
   ]
  },
  {
   "cell_type": "code",
   "execution_count": null,
   "metadata": {},
   "outputs": [],
   "source": [
    "documents = [ re.sub(\"[^a-zA-Z0-9]\", \" \", document) for document in texts1]\n",
    "\n",
    "# tokenize\n",
    "texts1 = [  document.lower().split() for document in documents ]\n",
    "\n",
    "# stemming words: having --> have; friends --> friend\n",
    "lmtzr = WordNetLemmatizer()\n",
    "texts1 = [ [ lmtzr.lemmatize(word) for word in tokens   ]  for tokens in texts1     ]\n",
    "\n",
    "#porter_stemmer = PorterStemmer()\n",
    "#texts = [[porter_stemmer.stem(word) for word in text ] for text in texts]\n",
    "\n",
    "# remove common words \n",
    "stoplist = stopwords.words('english')\n",
    "texts1 = [[word for word in tokens if word not in stoplist ] for tokens in texts1]\n",
    "\n",
    "#remove short words\n",
    "texts1 = [[word for word in tokens if len(word) >= 3] for tokens in texts1]"
   ]
  },
  {
   "cell_type": "code",
   "execution_count": null,
   "metadata": {},
   "outputs": [],
   "source": [
    "dictionary = Dictionary(texts1)\n",
    "dictionary.save('data/fender.dict')  # store the dictionary, for future reference\n",
    "\n",
    "len(dictionary)"
   ]
  },
  {
   "cell_type": "code",
   "execution_count": null,
   "metadata": {},
   "outputs": [],
   "source": [
    "dictionary.filter_extremes(no_below=5, no_above=0.5) #https://radimrehurek.com/gensim/corpora/dictionary.html#gensim.corpora.dictionary.Dictionary.filter_extremes\n",
    "len(dictionary)"
   ]
  },
  {
   "cell_type": "code",
   "execution_count": null,
   "metadata": {},
   "outputs": [],
   "source": [
    "corpus = [dictionary.doc2bow(text) for text in texts1]\n",
    "corpora.MmCorpus.serialize('data/fender.mm', corpus)  # store to disk, for later use  # store to disk, for later use\n",
    "len(corpus)"
   ]
  },
  {
   "cell_type": "code",
   "execution_count": null,
   "metadata": {},
   "outputs": [],
   "source": [
    "print(('Number of unique tokens: %d' % len(dictionary)))\n",
    "print(('Number of documents: %d' % len(corpus)))"
   ]
  },
  {
   "cell_type": "code",
   "execution_count": null,
   "metadata": {},
   "outputs": [],
   "source": [
    "from gensim.models.coherencemodel import CoherenceModel\n",
    "from gensim.models.wrappers import LdaVowpalWabbit, LdaMallet\n",
    "\n",
    "# setting random seed to get the same results each time. Remove this line for HW\n",
    "numpy.random.seed(1)\n",
    "for k in range(2, 10):\n",
    "    goodLdaModel = ldamodel.LdaModel(\n",
    "        corpus=corpus, id2word=dictionary, num_topics=k, passes=50)\n",
    "    goodcm = CoherenceModel(model=goodLdaModel, corpus=corpus,\n",
    "                            dictionary=dictionary, coherence='u_mass')\n",
    "    print(goodcm.get_coherence())"
   ]
  },
  {
   "cell_type": "code",
   "execution_count": null,
   "metadata": {},
   "outputs": [],
   "source": [
    "numpy.random.seed(1)\n",
    "modelf = ldamodel.LdaModel(corpus, id2word=dictionary, num_topics=10,passes= 20)\n",
    "                                    "
   ]
  },
  {
   "cell_type": "code",
   "execution_count": null,
   "metadata": {},
   "outputs": [],
   "source": [
    "modelf.show_topics(num_topics=12)"
   ]
  },
  {
   "cell_type": "code",
   "execution_count": null,
   "metadata": {},
   "outputs": [],
   "source": [
    "lda_corpus = modelf[corpus]\n",
    "\n",
    "results = []\n",
    "for i in lda_corpus:\n",
    "    \n",
    "    results.append(i)\n"
   ]
  },
  {
   "cell_type": "code",
   "execution_count": null,
   "metadata": {},
   "outputs": [],
   "source": [
    "toptopic = [max(collection, key=lambda x: x[1])[0] for collection in results]\n",
    "toptopic[:5]"
   ]
  },
  {
   "cell_type": "code",
   "execution_count": null,
   "metadata": {},
   "outputs": [],
   "source": [
    "pyLDAvis.enable_notebook()\n",
    "vis = pyLDAvis.gensim.prepare(modelf, corpus, dictionary)\n",
    "vis"
   ]
  },
  {
   "cell_type": "markdown",
   "metadata": {},
   "source": [
    "# Network Analytics"
   ]
  },
  {
   "cell_type": "code",
   "execution_count": null,
   "metadata": {},
   "outputs": [],
   "source": [
    "df.head(4)"
   ]
  },
  {
   "cell_type": "code",
   "execution_count": null,
   "metadata": {},
   "outputs": [],
   "source": [
    "df2 = df.head(1000)\n"
   ]
  },
  {
   "cell_type": "code",
   "execution_count": null,
   "metadata": {},
   "outputs": [],
   "source": [
    "tweets = df2.values\n",
    "len(tweets)"
   ]
  },
  {
   "cell_type": "code",
   "execution_count": null,
   "metadata": {},
   "outputs": [],
   "source": [
    "hashtag_network = []\n",
    "for tweet in tweets:\n",
    "    data = re.sub(\"[^a-zA-Z0-9#]+\", \" \", tweet[2])\n",
    "    hashtag = re.findall(r\"(?<=#)\\w+\", str(data).lower())\n",
    "    hashtag_network.append(hashtag)"
   ]
  },
  {
   "cell_type": "code",
   "execution_count": null,
   "metadata": {},
   "outputs": [],
   "source": [
    "hashtag_network[:20]"
   ]
  },
  {
   "cell_type": "code",
   "execution_count": null,
   "metadata": {},
   "outputs": [],
   "source": [
    "from itertools import combinations\n",
    "cohashtags = [x for d in hashtag_network for x in combinations(d, 2)]\n",
    "cohashtags[:20]"
   ]
  },
  {
   "cell_type": "code",
   "execution_count": null,
   "metadata": {},
   "outputs": [],
   "source": [
    "outfile = open(\"data/cohashtag_network2.csv\", \"w\", newline='')\n",
    "w = csv.writer(outfile)\n",
    "for i in cohashtags:\n",
    "    w.writerow(i)    \n",
    "outfile.close()"
   ]
  },
  {
   "cell_type": "code",
   "execution_count": null,
   "metadata": {},
   "outputs": [],
   "source": [
    "from IPython.display import Image\n",
    "Image(\"data/gibson.png\")"
   ]
  },
  {
   "cell_type": "code",
   "execution_count": null,
   "metadata": {},
   "outputs": [],
   "source": [
    "dff2 = dff.head(1000)"
   ]
  },
  {
   "cell_type": "code",
   "execution_count": null,
   "metadata": {},
   "outputs": [],
   "source": [
    "dff.head(20)"
   ]
  },
  {
   "cell_type": "code",
   "execution_count": null,
   "metadata": {},
   "outputs": [],
   "source": [
    "tweets = dff2.values\n",
    "len(tweets)"
   ]
  },
  {
   "cell_type": "code",
   "execution_count": null,
   "metadata": {},
   "outputs": [],
   "source": [
    "hashtag_network = []\n",
    "for tweet in tweets:\n",
    "    data = re.sub(\"[^a-zA-Z0-9#]+\", \" \", tweet[2])\n",
    "    hashtag = re.findall(r\"(?<=#)\\w+\", str(data).lower())\n",
    "    hashtag_network.append(hashtag)"
   ]
  },
  {
   "cell_type": "code",
   "execution_count": null,
   "metadata": {},
   "outputs": [],
   "source": [
    "hashtag_network[:10]"
   ]
  },
  {
   "cell_type": "code",
   "execution_count": null,
   "metadata": {},
   "outputs": [],
   "source": [
    "from itertools import combinations\n",
    "cohashtags = [x for d in hashtag_network for x in combinations(d, 2)]\n",
    "cohashtags[:20]"
   ]
  },
  {
   "cell_type": "code",
   "execution_count": null,
   "metadata": {},
   "outputs": [],
   "source": [
    "outfile = open(\"data/cohashtag_network5.csv\", \"w\", newline='')\n",
    "w = csv.writer(outfile)\n",
    "for i in cohashtags:\n",
    "    w.writerow(i)    \n",
    "outfile.close()"
   ]
  },
  {
   "cell_type": "code",
   "execution_count": null,
   "metadata": {},
   "outputs": [],
   "source": [
    "from IPython.display import Image\n",
    "Image(\"data/fender.png\")"
   ]
  },
  {
   "cell_type": "markdown",
   "metadata": {},
   "source": [
    "# Story Telling"
   ]
  },
  {
   "cell_type": "markdown",
   "metadata": {},
   "source": [
    "    After performing my anaysis of Gibson and Fender guitars I uncovered some very interesting information. The first thing that I did in My analysis was a word frequency analysis along with word clouds for each company. Analyzing tweets that the company uses for promotion and other activities. I found that Gibson mentions things like rock, les paul, gibson custom, and namm. Fender mentioned words such as happy, bass, guitar, stratocaster, and telecaster. This is good to know from a managerial perspective for one you can get an idea of topics that are frequently tweeted about by your firm and maybe find some topics that should be promoted more frequently.\n",
    "    \n",
    "    I then moved on to sentiment analysis. I used vader sentiment for this analysis. I found that the average sentiment of a Gibson tweet was .233 and the average score for a Fender tweet was .264. Although both scores are very close this implies that Gibson discuess slightly more negative things than Fender which is something a manger might want to know. I also used graphs to visualize distrubutions of the scores to see if there was any discrepencies both distrubtutions were very close to one antother. \n",
    "    \n",
    "    After this I used topic modeling. This was to categorize the tweets for each company and determine the optimal number of topics for categoizing said tweets. Ultimatly I found that Gibson has around 12 topics that tweets can be categorized into while fender has around 10. This is important information to know becasue maybe one company is too focused on their tweets or the other is to broad. Another thing this is good for is to understand the kinds of things that the company frequently tweets about and how they are related to one another. \n",
    "    \n",
    "    Finally I performed a network analysis. I used cohashtag approach and an eigenvector analysis for the images that I uploaded in this file. This can be used by a manager to better understand what topics and hastags are interrelated and maybe find some things that are interelated that is unexpected. \n",
    "    \n",
    "    Overall I am proud of my analysis and I think that there is plenty of business intelligence that can be used by a manager in their decsion making process on how to more effectivly use social media.\n"
   ]
  },
  {
   "cell_type": "code",
   "execution_count": null,
   "metadata": {},
   "outputs": [],
   "source": []
  }
 ],
 "metadata": {
  "kernelspec": {
   "display_name": "Python 3",
   "language": "python",
   "name": "python3"
  },
  "language_info": {
   "codemirror_mode": {
    "name": "ipython",
    "version": 3
   },
   "file_extension": ".py",
   "mimetype": "text/x-python",
   "name": "python",
   "nbconvert_exporter": "python",
   "pygments_lexer": "ipython3",
   "version": "3.7.1"
  }
 },
 "nbformat": 4,
 "nbformat_minor": 2
}
