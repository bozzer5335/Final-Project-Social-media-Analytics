{
 "cells": [
  {
   "cell_type": "code",
   "execution_count": 33,
   "metadata": {},
   "outputs": [],
   "source": [
    "import csv\n",
    "import pandas as pd\n",
    "import re\n",
    "import json\n",
    "import nltk\n",
    "from nltk import word_tokenize\n",
    "from nltk.corpus import stopwords\n",
    "import numpy as np\n",
    "import pandas as pd\n",
    "\n",
    "import seaborn as sns\n",
    "import scipy.stats as stats\n",
    "from scipy import stats\n",
    "from pandas.tools import plotting\n",
    "\n",
    "import nltk\n",
    "from nltk.corpus import stopwords\n",
    "from nltk import FreqDist, word_tokenize\n",
    "from nltk.stem.porter import PorterStemmer\n",
    "from nltk.stem import WordNetLemmatizer\n",
    "from nltk.corpus import stopwords\n",
    "import re\n",
    "#csv\n",
    "import csv\n",
    "import pandas as pd\n",
    "import matplotlib.pyplot as plt\n",
    "%matplotlib inline\n",
    "from nltk.sentiment.vader import SentimentIntensityAnalyzer\n",
    "\n",
    "from textblob import TextBlob\n",
    "from wordcloud import WordCloud, STOPWORDS"
   ]
  },
  {
   "cell_type": "markdown",
   "metadata": {},
   "source": [
    "# 1. Business Questions"
   ]
  },
  {
   "cell_type": "markdown",
   "metadata": {},
   "source": [
    "1. What are customers talking about?\n",
    "2. What is the Sentiment of applebees on twitter?\n",
    "3. What is the Applebees Twitter handle talking about?"
   ]
  },
  {
   "cell_type": "markdown",
   "metadata": {},
   "source": [
    "# 2. Data Collection"
   ]
  },
  {
   "cell_type": "code",
   "execution_count": 34,
   "metadata": {},
   "outputs": [
    {
     "name": "stdout",
     "output_type": "stream",
     "text": [
      "330\n"
     ]
    }
   ],
   "source": [
    "data = []\n",
    "\n",
    "for line in open('twitterdataguitar.json'):\n",
    "    try:\n",
    "        data.append(json.loads(line))\n",
    "    except:\n",
    "        pass\n",
    "\n",
    "print(len(data))"
   ]
  },
  {
   "cell_type": "code",
   "execution_count": 35,
   "metadata": {},
   "outputs": [
    {
     "data": {
      "text/plain": [
       "330"
      ]
     },
     "execution_count": 35,
     "metadata": {},
     "output_type": "execute_result"
    }
   ],
   "source": [
    "tweets = []\n",
    "for T in data:\n",
    "    if 'text' in T:\n",
    "        tweets.append(T)\n",
    "len(tweets)"
   ]
  },
  {
   "cell_type": "code",
   "execution_count": 36,
   "metadata": {},
   "outputs": [],
   "source": [
    "ids = [T['id_str'] for T in tweets]\n",
    "times = [T['created_at'] for T in tweets]\n",
    "texts = [T['text'] for T in tweets]\n",
    "screen_names = [T['user']['screen_name'] for T in tweets]\n",
    "followers_count = [T['user']['followers_count'] for T in tweets]\n",
    "friends_count = [T['user']['friends_count'] for T in tweets]\n",
    "names = [T['user']['name'] for T in tweets]\n",
    "lats = [(T['geo']['coordinates'][0] if T['geo'] else None) for T in tweets]\n",
    "lons = [(T['geo']['coordinates'][1] if T['geo'] else None) for T in tweets]\n",
    "place_names = [(T['place']['full_name'] if T['place'] else None) for T in tweets]\n",
    "place_types = [(T['place']['place_type'] if T['place'] else None) for T in tweets]\n",
    "\n",
    "# open an output csv file to write to\n",
    "out = open('tweetdata335.csv', 'w', encoding='UTF-8', newline='')\n",
    "\n",
    "# write the header of our CSV as its first line\n",
    "out.write('id,created at,text,screen name,followers_count,friends_count,name,lat,lon,place name,place type\\n')\n",
    "\n",
    "# merge each individual list into a single list using the zip function\n",
    "rows = list(zip(ids, times, texts, screen_names, followers_count, friends_count, names, lats, lons, place_names, place_types))\n",
    "\n",
    "# use the writer module on our csv file\n",
    "csv = csv.writer(out)\n",
    "\n",
    "# use one value from each of our rows list and write it to the csv as a new row\n",
    "for row in rows:\n",
    "    values = [value for value in row]\n",
    "    #values = [(value.encode('utf8') if hasattr(value, 'encode') else value) for value in row]\n",
    "    csv.writerow(values)\n",
    "\n",
    "# close our csv file when done\n",
    "out.close()\n"
   ]
  },
  {
   "cell_type": "code",
   "execution_count": 37,
   "metadata": {},
   "outputs": [
    {
     "data": {
      "text/html": [
       "<div>\n",
       "<style scoped>\n",
       "    .dataframe tbody tr th:only-of-type {\n",
       "        vertical-align: middle;\n",
       "    }\n",
       "\n",
       "    .dataframe tbody tr th {\n",
       "        vertical-align: top;\n",
       "    }\n",
       "\n",
       "    .dataframe thead th {\n",
       "        text-align: right;\n",
       "    }\n",
       "</style>\n",
       "<table border=\"1\" class=\"dataframe\">\n",
       "  <thead>\n",
       "    <tr style=\"text-align: right;\">\n",
       "      <th></th>\n",
       "      <th>id</th>\n",
       "      <th>created at</th>\n",
       "      <th>text</th>\n",
       "      <th>screen name</th>\n",
       "      <th>followers_count</th>\n",
       "      <th>friends_count</th>\n",
       "      <th>name</th>\n",
       "      <th>lat</th>\n",
       "      <th>lon</th>\n",
       "      <th>place name</th>\n",
       "      <th>place type</th>\n",
       "    </tr>\n",
       "  </thead>\n",
       "  <tbody>\n",
       "    <tr>\n",
       "      <th>0</th>\n",
       "      <td>1124046328105926657</td>\n",
       "      <td>Thu May 02 20:21:43 +0000 2019</td>\n",
       "      <td>https://t.co/LppuTlragj</td>\n",
       "      <td>occidentalpride</td>\n",
       "      <td>36</td>\n",
       "      <td>241</td>\n",
       "      <td>Wesley Carvalho</td>\n",
       "      <td>NaN</td>\n",
       "      <td>NaN</td>\n",
       "      <td>NaN</td>\n",
       "      <td>NaN</td>\n",
       "    </tr>\n",
       "    <tr>\n",
       "      <th>1</th>\n",
       "      <td>1124046352273616897</td>\n",
       "      <td>Thu May 02 20:21:48 +0000 2019</td>\n",
       "      <td>Hoptille : 2 daders : 1 blnke jongen, zwrte pe...</td>\n",
       "      <td>Angelin84863116</td>\n",
       "      <td>43</td>\n",
       "      <td>227</td>\n",
       "      <td>Angelina</td>\n",
       "      <td>NaN</td>\n",
       "      <td>NaN</td>\n",
       "      <td>NaN</td>\n",
       "      <td>NaN</td>\n",
       "    </tr>\n",
       "    <tr>\n",
       "      <th>2</th>\n",
       "      <td>1124046378085289992</td>\n",
       "      <td>Thu May 02 20:21:54 +0000 2019</td>\n",
       "      <td>RT @marialves53: Deb Gibson, Canadian Artist h...</td>\n",
       "      <td>susanaberasturi</td>\n",
       "      <td>1969</td>\n",
       "      <td>4965</td>\n",
       "      <td>Susana Aberasturi</td>\n",
       "      <td>NaN</td>\n",
       "      <td>NaN</td>\n",
       "      <td>NaN</td>\n",
       "      <td>NaN</td>\n",
       "    </tr>\n",
       "    <tr>\n",
       "      <th>3</th>\n",
       "      <td>1124046387853836288</td>\n",
       "      <td>Thu May 02 20:21:57 +0000 2019</td>\n",
       "      <td>RT @ARTamherstburg: Help Wanted- Gibson Galler...</td>\n",
       "      <td>RTT_Amherstburg</td>\n",
       "      <td>1992</td>\n",
       "      <td>1172</td>\n",
       "      <td>River Town Times</td>\n",
       "      <td>NaN</td>\n",
       "      <td>NaN</td>\n",
       "      <td>NaN</td>\n",
       "      <td>NaN</td>\n",
       "    </tr>\n",
       "    <tr>\n",
       "      <th>4</th>\n",
       "      <td>1124046426214948865</td>\n",
       "      <td>Thu May 02 20:22:06 +0000 2019</td>\n",
       "      <td>RT @NWStornado: Tornado Warning including Gibs...</td>\n",
       "      <td>JacobRousseau7</td>\n",
       "      <td>10</td>\n",
       "      <td>22</td>\n",
       "      <td>JR Weather ⚡️🌪💦</td>\n",
       "      <td>NaN</td>\n",
       "      <td>NaN</td>\n",
       "      <td>NaN</td>\n",
       "      <td>NaN</td>\n",
       "    </tr>\n",
       "  </tbody>\n",
       "</table>\n",
       "</div>"
      ],
      "text/plain": [
       "                    id                      created at  \\\n",
       "0  1124046328105926657  Thu May 02 20:21:43 +0000 2019   \n",
       "1  1124046352273616897  Thu May 02 20:21:48 +0000 2019   \n",
       "2  1124046378085289992  Thu May 02 20:21:54 +0000 2019   \n",
       "3  1124046387853836288  Thu May 02 20:21:57 +0000 2019   \n",
       "4  1124046426214948865  Thu May 02 20:22:06 +0000 2019   \n",
       "\n",
       "                                                text      screen name  \\\n",
       "0                            https://t.co/LppuTlragj  occidentalpride   \n",
       "1  Hoptille : 2 daders : 1 blnke jongen, zwrte pe...  Angelin84863116   \n",
       "2  RT @marialves53: Deb Gibson, Canadian Artist h...  susanaberasturi   \n",
       "3  RT @ARTamherstburg: Help Wanted- Gibson Galler...  RTT_Amherstburg   \n",
       "4  RT @NWStornado: Tornado Warning including Gibs...   JacobRousseau7   \n",
       "\n",
       "   followers_count  friends_count               name  lat  lon place name  \\\n",
       "0               36            241    Wesley Carvalho  NaN  NaN        NaN   \n",
       "1               43            227           Angelina  NaN  NaN        NaN   \n",
       "2             1969           4965  Susana Aberasturi  NaN  NaN        NaN   \n",
       "3             1992           1172   River Town Times  NaN  NaN        NaN   \n",
       "4               10             22    JR Weather ⚡️🌪💦  NaN  NaN        NaN   \n",
       "\n",
       "  place type  \n",
       "0        NaN  \n",
       "1        NaN  \n",
       "2        NaN  \n",
       "3        NaN  \n",
       "4        NaN  "
      ]
     },
     "execution_count": 37,
     "metadata": {},
     "output_type": "execute_result"
    }
   ],
   "source": [
    "df0 = pd.read_csv(\"tweetdata335.csv\")\n",
    "df0.head()"
   ]
  },
  {
   "cell_type": "code",
   "execution_count": 161,
   "metadata": {},
   "outputs": [
    {
     "data": {
      "text/html": [
       "<div>\n",
       "<style scoped>\n",
       "    .dataframe tbody tr th:only-of-type {\n",
       "        vertical-align: middle;\n",
       "    }\n",
       "\n",
       "    .dataframe tbody tr th {\n",
       "        vertical-align: top;\n",
       "    }\n",
       "\n",
       "    .dataframe thead th {\n",
       "        text-align: right;\n",
       "    }\n",
       "</style>\n",
       "<table border=\"1\" class=\"dataframe\">\n",
       "  <thead>\n",
       "    <tr style=\"text-align: right;\">\n",
       "      <th></th>\n",
       "      <th>user</th>\n",
       "      <th>Unnamed: 1</th>\n",
       "      <th>time</th>\n",
       "      <th>tweets</th>\n",
       "    </tr>\n",
       "  </thead>\n",
       "  <tbody>\n",
       "    <tr>\n",
       "      <th>0</th>\n",
       "      <td>applebees</td>\n",
       "      <td>1.102250e+18</td>\n",
       "      <td>3/3/2019 16:34</td>\n",
       "      <td>@YFan914 We're sorry to hear this. Could you p...</td>\n",
       "    </tr>\n",
       "    <tr>\n",
       "      <th>1</th>\n",
       "      <td>applebees</td>\n",
       "      <td>1.102130e+18</td>\n",
       "      <td>3/3/2019 8:49</td>\n",
       "      <td>@jarreyg Thanks for letting us know you would ...</td>\n",
       "    </tr>\n",
       "    <tr>\n",
       "      <th>2</th>\n",
       "      <td>applebees</td>\n",
       "      <td>1.102130e+18</td>\n",
       "      <td>3/3/2019 8:46</td>\n",
       "      <td>@rosieexomarie We're sorry if there was an iss...</td>\n",
       "    </tr>\n",
       "    <tr>\n",
       "      <th>3</th>\n",
       "      <td>applebees</td>\n",
       "      <td>1.102070e+18</td>\n",
       "      <td>3/3/2019 5:05</td>\n",
       "      <td>@kaleidoscopee__ Missing key ingredients on yo...</td>\n",
       "    </tr>\n",
       "    <tr>\n",
       "      <th>4</th>\n",
       "      <td>applebees</td>\n",
       "      <td>1.102070e+18</td>\n",
       "      <td>3/3/2019 5:03</td>\n",
       "      <td>@g_kern09 Hi Grant, we want to ensure our gues...</td>\n",
       "    </tr>\n",
       "  </tbody>\n",
       "</table>\n",
       "</div>"
      ],
      "text/plain": [
       "        user    Unnamed: 1            time  \\\n",
       "0  applebees  1.102250e+18  3/3/2019 16:34   \n",
       "1  applebees  1.102130e+18   3/3/2019 8:49   \n",
       "2  applebees  1.102130e+18   3/3/2019 8:46   \n",
       "3  applebees  1.102070e+18   3/3/2019 5:05   \n",
       "4  applebees  1.102070e+18   3/3/2019 5:03   \n",
       "\n",
       "                                              tweets  \n",
       "0  @YFan914 We're sorry to hear this. Could you p...  \n",
       "1  @jarreyg Thanks for letting us know you would ...  \n",
       "2  @rosieexomarie We're sorry if there was an iss...  \n",
       "3  @kaleidoscopee__ Missing key ingredients on yo...  \n",
       "4  @g_kern09 Hi Grant, we want to ensure our gues...  "
      ]
     },
     "execution_count": 161,
     "metadata": {},
     "output_type": "execute_result"
    }
   ],
   "source": [
    "df = pd.read_csv(\"data/sample_tweets.csv\")\n",
    "df.head()"
   ]
  },
  {
   "cell_type": "markdown",
   "metadata": {},
   "source": [
    "# 3. Customer Analysis"
   ]
  },
  {
   "cell_type": "code",
   "execution_count": 39,
   "metadata": {},
   "outputs": [],
   "source": [
    "df0['cleaned'] = df0['text']"
   ]
  },
  {
   "cell_type": "code",
   "execution_count": 40,
   "metadata": {},
   "outputs": [],
   "source": [
    "df0['cleaned'] = df0['cleaned'].str.replace('http\\S+|www.\\S+', '')"
   ]
  },
  {
   "cell_type": "code",
   "execution_count": 41,
   "metadata": {},
   "outputs": [],
   "source": [
    "df0['cleaned'] = df0['cleaned'].str.replace('\\d+', '')"
   ]
  },
  {
   "cell_type": "code",
   "execution_count": 42,
   "metadata": {},
   "outputs": [],
   "source": [
    "df0['cleaned'] = df0['cleaned'].str.replace('[^a-zA-Z]+', ' ')"
   ]
  },
  {
   "cell_type": "code",
   "execution_count": 43,
   "metadata": {},
   "outputs": [],
   "source": [
    "df0['cleaned'] = df0['cleaned'].str.findall('\\w{3,}').str.join(' ')"
   ]
  },
  {
   "cell_type": "code",
   "execution_count": 44,
   "metadata": {},
   "outputs": [],
   "source": [
    "df0['words'] = df0['cleaned'].str.split()\n"
   ]
  },
  {
   "cell_type": "code",
   "execution_count": 45,
   "metadata": {},
   "outputs": [],
   "source": [
    "df0['words'] = df0['words'].apply(', '.join)\n"
   ]
  },
  {
   "cell_type": "code",
   "execution_count": 46,
   "metadata": {},
   "outputs": [],
   "source": []
  },
  {
   "cell_type": "code",
   "execution_count": 47,
   "metadata": {},
   "outputs": [],
   "source": []
  },
  {
   "cell_type": "code",
   "execution_count": null,
   "metadata": {},
   "outputs": [],
   "source": []
  },
  {
   "cell_type": "code",
   "execution_count": 49,
   "metadata": {},
   "outputs": [
    {
     "data": {
      "image/png": "[encoded data removed]",
      "text/plain": [
       "<Figure size 432x288 with 1 Axes>"
      ]
     },
     "metadata": {
      "needs_background": "light"
     },
     "output_type": "display_data"
    }
   ],
   "source": [
    "wordcloud = WordCloud().generate(' '.join(df0['cleaned']))\n",
    "plt.imshow(wordcloud)\n",
    "plt.axis(\"off\")\n",
    "plt.show()"
   ]
  },
  {
   "cell_type": "code",
   "execution_count": 50,
   "metadata": {},
   "outputs": [],
   "source": [
    "from collections import Counter"
   ]
  },
  {
   "cell_type": "code",
   "execution_count": 51,
   "metadata": {},
   "outputs": [
    {
     "data": {
      "text/plain": [
       "[('', 4),\n",
       " ('Hoptille', 1),\n",
       " ('daders', 1),\n",
       " ('blnke', 1),\n",
       " ('jongen', 1),\n",
       " ('zwrte', 1),\n",
       " ('pet', 1),\n",
       " ('zwrt', 1),\n",
       " ('gekld', 1),\n",
       " ('lng', 1)]"
      ]
     },
     "execution_count": 51,
     "metadata": {},
     "output_type": "execute_result"
    }
   ],
   "source": [
    "list(Counter(\" \".join(df0['cleaned']).split(\" \")).items())[:10]"
   ]
  },
  {
   "cell_type": "code",
   "execution_count": 52,
   "metadata": {},
   "outputs": [
    {
     "data": {
      "text/html": [
       "<div>\n",
       "<style scoped>\n",
       "    .dataframe tbody tr th:only-of-type {\n",
       "        vertical-align: middle;\n",
       "    }\n",
       "\n",
       "    .dataframe tbody tr th {\n",
       "        vertical-align: top;\n",
       "    }\n",
       "\n",
       "    .dataframe thead th {\n",
       "        text-align: right;\n",
       "    }\n",
       "</style>\n",
       "<table border=\"1\" class=\"dataframe\">\n",
       "  <thead>\n",
       "    <tr style=\"text-align: right;\">\n",
       "      <th></th>\n",
       "      <th>0</th>\n",
       "      <th>1</th>\n",
       "    </tr>\n",
       "  </thead>\n",
       "  <tbody>\n",
       "    <tr>\n",
       "      <th>153</th>\n",
       "      <td>guitar</td>\n",
       "      <td>174</td>\n",
       "    </tr>\n",
       "    <tr>\n",
       "      <th>25</th>\n",
       "      <td>the</td>\n",
       "      <td>103</td>\n",
       "    </tr>\n",
       "    <tr>\n",
       "      <th>31</th>\n",
       "      <td>and</td>\n",
       "      <td>70</td>\n",
       "    </tr>\n",
       "    <tr>\n",
       "      <th>115</th>\n",
       "      <td>for</td>\n",
       "      <td>45</td>\n",
       "    </tr>\n",
       "    <tr>\n",
       "      <th>63</th>\n",
       "      <td>Guitar</td>\n",
       "      <td>45</td>\n",
       "    </tr>\n",
       "    <tr>\n",
       "      <th>440</th>\n",
       "      <td>Chancellor</td>\n",
       "      <td>32</td>\n",
       "    </tr>\n",
       "    <tr>\n",
       "      <th>510</th>\n",
       "      <td>this</td>\n",
       "      <td>27</td>\n",
       "    </tr>\n",
       "    <tr>\n",
       "      <th>156</th>\n",
       "      <td>from</td>\n",
       "      <td>26</td>\n",
       "    </tr>\n",
       "    <tr>\n",
       "      <th>347</th>\n",
       "      <td>that</td>\n",
       "      <td>26</td>\n",
       "    </tr>\n",
       "    <tr>\n",
       "      <th>60</th>\n",
       "      <td>out</td>\n",
       "      <td>24</td>\n",
       "    </tr>\n",
       "    <tr>\n",
       "      <th>46</th>\n",
       "      <td>you</td>\n",
       "      <td>21</td>\n",
       "    </tr>\n",
       "    <tr>\n",
       "      <th>629</th>\n",
       "      <td>playing</td>\n",
       "      <td>21</td>\n",
       "    </tr>\n",
       "    <tr>\n",
       "      <th>154</th>\n",
       "      <td>pick</td>\n",
       "      <td>21</td>\n",
       "    </tr>\n",
       "    <tr>\n",
       "      <th>151</th>\n",
       "      <td>she</td>\n",
       "      <td>21</td>\n",
       "    </tr>\n",
       "    <tr>\n",
       "      <th>380</th>\n",
       "      <td>The</td>\n",
       "      <td>19</td>\n",
       "    </tr>\n",
       "    <tr>\n",
       "      <th>157</th>\n",
       "      <td>ShawnMendes</td>\n",
       "      <td>18</td>\n",
       "    </tr>\n",
       "    <tr>\n",
       "      <th>150</th>\n",
       "      <td>CaseyNeistat</td>\n",
       "      <td>18</td>\n",
       "    </tr>\n",
       "    <tr>\n",
       "      <th>152</th>\n",
       "      <td>uses</td>\n",
       "      <td>18</td>\n",
       "    </tr>\n",
       "    <tr>\n",
       "      <th>155</th>\n",
       "      <td>stole</td>\n",
       "      <td>18</td>\n",
       "    </tr>\n",
       "    <tr>\n",
       "      <th>50</th>\n",
       "      <td>with</td>\n",
       "      <td>17</td>\n",
       "    </tr>\n",
       "  </tbody>\n",
       "</table>\n",
       "</div>"
      ],
      "text/plain": [
       "                0    1\n",
       "153        guitar  174\n",
       "25            the  103\n",
       "31            and   70\n",
       "115           for   45\n",
       "63         Guitar   45\n",
       "440    Chancellor   32\n",
       "510          this   27\n",
       "156          from   26\n",
       "347          that   26\n",
       "60            out   24\n",
       "46            you   21\n",
       "629       playing   21\n",
       "154          pick   21\n",
       "151           she   21\n",
       "380           The   19\n",
       "157   ShawnMendes   18\n",
       "150  CaseyNeistat   18\n",
       "152          uses   18\n",
       "155         stole   18\n",
       "50           with   17"
      ]
     },
     "execution_count": 52,
     "metadata": {},
     "output_type": "execute_result"
    }
   ],
   "source": [
    "fdist = list(Counter(\" \".join(df0['cleaned']).split(\" \")).items())\n",
    "\n",
    "# convert to dataframe\n",
    "freq_word = []\n",
    "\n",
    "for k,v in fdist:\n",
    "    freq_word.append([k,v])\n",
    "\n",
    "wordlist = pd.DataFrame(freq_word)\n",
    "\n",
    "#\n",
    "wordlist.sort_values(1, ascending=False).head(20)"
   ]
  },
  {
   "cell_type": "code",
   "execution_count": 193,
   "metadata": {},
   "outputs": [],
   "source": [
    "vs = SentimentIntensityAnalyzer()"
   ]
  },
  {
   "cell_type": "code",
   "execution_count": 194,
   "metadata": {},
   "outputs": [
    {
     "data": {
      "text/html": [
       "<div>\n",
       "<style scoped>\n",
       "    .dataframe tbody tr th:only-of-type {\n",
       "        vertical-align: middle;\n",
       "    }\n",
       "\n",
       "    .dataframe tbody tr th {\n",
       "        vertical-align: top;\n",
       "    }\n",
       "\n",
       "    .dataframe thead th {\n",
       "        text-align: right;\n",
       "    }\n",
       "</style>\n",
       "<table border=\"1\" class=\"dataframe\">\n",
       "  <thead>\n",
       "    <tr style=\"text-align: right;\">\n",
       "      <th></th>\n",
       "      <th>id</th>\n",
       "      <th>created at</th>\n",
       "      <th>text</th>\n",
       "      <th>screen name</th>\n",
       "      <th>followers_count</th>\n",
       "      <th>friends_count</th>\n",
       "      <th>name</th>\n",
       "      <th>lat</th>\n",
       "      <th>lon</th>\n",
       "      <th>place name</th>\n",
       "      <th>place type</th>\n",
       "      <th>cleaned</th>\n",
       "      <th>words</th>\n",
       "      <th>score</th>\n",
       "    </tr>\n",
       "  </thead>\n",
       "  <tbody>\n",
       "    <tr>\n",
       "      <th>0</th>\n",
       "      <td>1100517189461966848</td>\n",
       "      <td>Tue Feb 26 22:05:19 +0000 2019</td>\n",
       "      <td>@Applebees Pass https://t.co/JaeeGILRlV</td>\n",
       "      <td>MomRovin</td>\n",
       "      <td>3325</td>\n",
       "      <td>3248</td>\n",
       "      <td>Amy Rovin</td>\n",
       "      <td>NaN</td>\n",
       "      <td>NaN</td>\n",
       "      <td>NaN</td>\n",
       "      <td>NaN</td>\n",
       "      <td>Applebees Pass</td>\n",
       "      <td>Applebees, Pass</td>\n",
       "      <td>0.0000</td>\n",
       "    </tr>\n",
       "    <tr>\n",
       "      <th>1</th>\n",
       "      <td>1100517447030005762</td>\n",
       "      <td>Tue Feb 26 22:06:20 +0000 2019</td>\n",
       "      <td>RT @ihatetherefs: What are y’all doing on date...</td>\n",
       "      <td>SPROTSTAKES</td>\n",
       "      <td>2138</td>\n",
       "      <td>1220</td>\n",
       "      <td>SPROTSTAKES</td>\n",
       "      <td>NaN</td>\n",
       "      <td>NaN</td>\n",
       "      <td>NaN</td>\n",
       "      <td>NaN</td>\n",
       "      <td>ihatetherefs What are all doing dates Haven yo...</td>\n",
       "      <td>ihatetherefs, What, are, all, doing, dates, Ha...</td>\n",
       "      <td>0.0000</td>\n",
       "    </tr>\n",
       "    <tr>\n",
       "      <th>2</th>\n",
       "      <td>1100517449584193537</td>\n",
       "      <td>Tue Feb 26 22:06:21 +0000 2019</td>\n",
       "      <td>RT @_ericcurtin: waiting for the homies at app...</td>\n",
       "      <td>hooty_hooloo</td>\n",
       "      <td>93</td>\n",
       "      <td>272</td>\n",
       "      <td>anti-airpod enthusiast</td>\n",
       "      <td>NaN</td>\n",
       "      <td>NaN</td>\n",
       "      <td>NaN</td>\n",
       "      <td>NaN</td>\n",
       "      <td>ericcurtin waiting for the homies applebees</td>\n",
       "      <td>ericcurtin, waiting, for, the, homies, applebees</td>\n",
       "      <td>0.0000</td>\n",
       "    </tr>\n",
       "    <tr>\n",
       "      <th>3</th>\n",
       "      <td>1100517525102694400</td>\n",
       "      <td>Tue Feb 26 22:06:39 +0000 2019</td>\n",
       "      <td>RT @JesaidaKay: i want applebee’s :,)</td>\n",
       "      <td>alexxisniichole</td>\n",
       "      <td>180</td>\n",
       "      <td>100</td>\n",
       "      <td>lexxx</td>\n",
       "      <td>NaN</td>\n",
       "      <td>NaN</td>\n",
       "      <td>NaN</td>\n",
       "      <td>NaN</td>\n",
       "      <td>JesaidaKay want applebee</td>\n",
       "      <td>JesaidaKay, want, applebee</td>\n",
       "      <td>0.0772</td>\n",
       "    </tr>\n",
       "    <tr>\n",
       "      <th>4</th>\n",
       "      <td>1100517718015574017</td>\n",
       "      <td>Tue Feb 26 22:07:25 +0000 2019</td>\n",
       "      <td>@Applebees Nobody wants to shit their pants in...</td>\n",
       "      <td>cassetteraised</td>\n",
       "      <td>917</td>\n",
       "      <td>205</td>\n",
       "      <td>raised by cassettes 🌮⚾️🎷</td>\n",
       "      <td>NaN</td>\n",
       "      <td>NaN</td>\n",
       "      <td>NaN</td>\n",
       "      <td>NaN</td>\n",
       "      <td>Applebees Nobody wants shit their pants their car</td>\n",
       "      <td>Applebees, Nobody, wants, shit, their, pants, ...</td>\n",
       "      <td>-0.5574</td>\n",
       "    </tr>\n",
       "  </tbody>\n",
       "</table>\n",
       "</div>"
      ],
      "text/plain": [
       "                    id                      created at  \\\n",
       "0  1100517189461966848  Tue Feb 26 22:05:19 +0000 2019   \n",
       "1  1100517447030005762  Tue Feb 26 22:06:20 +0000 2019   \n",
       "2  1100517449584193537  Tue Feb 26 22:06:21 +0000 2019   \n",
       "3  1100517525102694400  Tue Feb 26 22:06:39 +0000 2019   \n",
       "4  1100517718015574017  Tue Feb 26 22:07:25 +0000 2019   \n",
       "\n",
       "                                                text      screen name  \\\n",
       "0            @Applebees Pass https://t.co/JaeeGILRlV         MomRovin   \n",
       "1  RT @ihatetherefs: What are y’all doing on date...      SPROTSTAKES   \n",
       "2  RT @_ericcurtin: waiting for the homies at app...     hooty_hooloo   \n",
       "3              RT @JesaidaKay: i want applebee’s :,)  alexxisniichole   \n",
       "4  @Applebees Nobody wants to shit their pants in...   cassetteraised   \n",
       "\n",
       "   followers_count  friends_count                      name  lat  lon  \\\n",
       "0             3325           3248                 Amy Rovin  NaN  NaN   \n",
       "1             2138           1220               SPROTSTAKES  NaN  NaN   \n",
       "2               93            272    anti-airpod enthusiast  NaN  NaN   \n",
       "3              180            100                     lexxx  NaN  NaN   \n",
       "4              917            205  raised by cassettes 🌮⚾️🎷  NaN  NaN   \n",
       "\n",
       "  place name place type                                            cleaned  \\\n",
       "0        NaN        NaN                                     Applebees Pass   \n",
       "1        NaN        NaN  ihatetherefs What are all doing dates Haven yo...   \n",
       "2        NaN        NaN        ericcurtin waiting for the homies applebees   \n",
       "3        NaN        NaN                           JesaidaKay want applebee   \n",
       "4        NaN        NaN  Applebees Nobody wants shit their pants their car   \n",
       "\n",
       "                                               words   score  \n",
       "0                                    Applebees, Pass  0.0000  \n",
       "1  ihatetherefs, What, are, all, doing, dates, Ha...  0.0000  \n",
       "2   ericcurtin, waiting, for, the, homies, applebees  0.0000  \n",
       "3                         JesaidaKay, want, applebee  0.0772  \n",
       "4  Applebees, Nobody, wants, shit, their, pants, ... -0.5574  "
      ]
     },
     "execution_count": 194,
     "metadata": {},
     "output_type": "execute_result"
    }
   ],
   "source": [
    "df2['score'] = df2['cleaned'].apply(lambda x: vs.polarity_scores(x)['compound'])\n",
    "df2.head()"
   ]
  },
  {
   "cell_type": "code",
   "execution_count": 195,
   "metadata": {},
   "outputs": [
    {
     "data": {
      "text/plain": [
       "0.08000119521912351"
      ]
     },
     "execution_count": 195,
     "metadata": {},
     "output_type": "execute_result"
    }
   ],
   "source": [
    "df2[\"score\"].mean()"
   ]
  },
  {
   "cell_type": "markdown",
   "metadata": {},
   "source": [
    "## Here we find that the overall sentiment of people tweeting about applebees is slightly positive!!"
   ]
  },
  {
   "cell_type": "markdown",
   "metadata": {},
   "source": [
    "# Applebees Analysis"
   ]
  },
  {
   "cell_type": "code",
   "execution_count": 218,
   "metadata": {},
   "outputs": [
    {
     "data": {
      "text/html": [
       "<div>\n",
       "<style scoped>\n",
       "    .dataframe tbody tr th:only-of-type {\n",
       "        vertical-align: middle;\n",
       "    }\n",
       "\n",
       "    .dataframe tbody tr th {\n",
       "        vertical-align: top;\n",
       "    }\n",
       "\n",
       "    .dataframe thead th {\n",
       "        text-align: right;\n",
       "    }\n",
       "</style>\n",
       "<table border=\"1\" class=\"dataframe\">\n",
       "  <thead>\n",
       "    <tr style=\"text-align: right;\">\n",
       "      <th></th>\n",
       "      <th>user</th>\n",
       "      <th>Unnamed: 1</th>\n",
       "      <th>time</th>\n",
       "      <th>tweets</th>\n",
       "      <th>cleaned</th>\n",
       "      <th>words</th>\n",
       "    </tr>\n",
       "  </thead>\n",
       "  <tbody>\n",
       "    <tr>\n",
       "      <th>0</th>\n",
       "      <td>applebees</td>\n",
       "      <td>1.102250e+18</td>\n",
       "      <td>3/3/2019 16:34</td>\n",
       "      <td>@YFan914 We're sorry to hear this. Could you p...</td>\n",
       "      <td>@YFan914 We're sorry to hear this. Could you p...</td>\n",
       "      <td>YFan, sorry, hear, this, Could, you, please, g...</td>\n",
       "    </tr>\n",
       "    <tr>\n",
       "      <th>1</th>\n",
       "      <td>applebees</td>\n",
       "      <td>1.102130e+18</td>\n",
       "      <td>3/3/2019 8:49</td>\n",
       "      <td>@jarreyg Thanks for letting us know you would ...</td>\n",
       "      <td>@jarreyg Thanks for letting us know you would ...</td>\n",
       "      <td>jarreyg, Thanks, for, letting, know, you, woul...</td>\n",
       "    </tr>\n",
       "    <tr>\n",
       "      <th>2</th>\n",
       "      <td>applebees</td>\n",
       "      <td>1.102130e+18</td>\n",
       "      <td>3/3/2019 8:46</td>\n",
       "      <td>@rosieexomarie We're sorry if there was an iss...</td>\n",
       "      <td>@rosieexomarie We're sorry if there was an iss...</td>\n",
       "      <td>rosieexomarie, sorry, there, was, issue, with,...</td>\n",
       "    </tr>\n",
       "    <tr>\n",
       "      <th>3</th>\n",
       "      <td>applebees</td>\n",
       "      <td>1.102070e+18</td>\n",
       "      <td>3/3/2019 5:05</td>\n",
       "      <td>@kaleidoscopee__ Missing key ingredients on yo...</td>\n",
       "      <td>@kaleidoscopee__ Missing key ingredients on yo...</td>\n",
       "      <td>kaleidoscopee, Missing, key, ingredients, your...</td>\n",
       "    </tr>\n",
       "    <tr>\n",
       "      <th>4</th>\n",
       "      <td>applebees</td>\n",
       "      <td>1.102070e+18</td>\n",
       "      <td>3/3/2019 5:03</td>\n",
       "      <td>@g_kern09 Hi Grant, we want to ensure our gues...</td>\n",
       "      <td>@g_kern09 Hi Grant, we want to ensure our gues...</td>\n",
       "      <td>kern, Grant, want, ensure, our, guests, are, h...</td>\n",
       "    </tr>\n",
       "  </tbody>\n",
       "</table>\n",
       "</div>"
      ],
      "text/plain": [
       "        user    Unnamed: 1            time  \\\n",
       "0  applebees  1.102250e+18  3/3/2019 16:34   \n",
       "1  applebees  1.102130e+18   3/3/2019 8:49   \n",
       "2  applebees  1.102130e+18   3/3/2019 8:46   \n",
       "3  applebees  1.102070e+18   3/3/2019 5:05   \n",
       "4  applebees  1.102070e+18   3/3/2019 5:03   \n",
       "\n",
       "                                              tweets  \\\n",
       "0  @YFan914 We're sorry to hear this. Could you p...   \n",
       "1  @jarreyg Thanks for letting us know you would ...   \n",
       "2  @rosieexomarie We're sorry if there was an iss...   \n",
       "3  @kaleidoscopee__ Missing key ingredients on yo...   \n",
       "4  @g_kern09 Hi Grant, we want to ensure our gues...   \n",
       "\n",
       "                                             cleaned  \\\n",
       "0  @YFan914 We're sorry to hear this. Could you p...   \n",
       "1  @jarreyg Thanks for letting us know you would ...   \n",
       "2  @rosieexomarie We're sorry if there was an iss...   \n",
       "3  @kaleidoscopee__ Missing key ingredients on yo...   \n",
       "4  @g_kern09 Hi Grant, we want to ensure our gues...   \n",
       "\n",
       "                                               words  \n",
       "0  YFan, sorry, hear, this, Could, you, please, g...  \n",
       "1  jarreyg, Thanks, for, letting, know, you, woul...  \n",
       "2  rosieexomarie, sorry, there, was, issue, with,...  \n",
       "3  kaleidoscopee, Missing, key, ingredients, your...  \n",
       "4  kern, Grant, want, ensure, our, guests, are, h...  "
      ]
     },
     "execution_count": 218,
     "metadata": {},
     "output_type": "execute_result"
    }
   ],
   "source": [
    "df['cleaned'] = df['tweets']\n",
    "df.head()"
   ]
  },
  {
   "cell_type": "code",
   "execution_count": 219,
   "metadata": {},
   "outputs": [],
   "source": [
    "df['cleaned'] = df.cleaned.str.replace('http\\S+|www.\\S+', '')"
   ]
  },
  {
   "cell_type": "code",
   "execution_count": 220,
   "metadata": {},
   "outputs": [],
   "source": [
    "df['cleaned'] = df.cleaned.str.replace('\\d+', '')"
   ]
  },
  {
   "cell_type": "code",
   "execution_count": 221,
   "metadata": {},
   "outputs": [],
   "source": [
    "df['cleaned'] = df.cleaned.str.replace('[^a-zA-Z]+', ' ')"
   ]
  },
  {
   "cell_type": "code",
   "execution_count": 222,
   "metadata": {},
   "outputs": [],
   "source": [
    "df['cleaned'] = df.cleaned.str.findall('\\w{3,}').str.join(' ')"
   ]
  },
  {
   "cell_type": "code",
   "execution_count": 223,
   "metadata": {},
   "outputs": [],
   "source": [
    "df['words'] = df['cleaned'].str.split()\n"
   ]
  },
  {
   "cell_type": "code",
   "execution_count": 224,
   "metadata": {},
   "outputs": [],
   "source": [
    "df['words'] = df['words'].apply(', '.join)\n"
   ]
  },
  {
   "cell_type": "code",
   "execution_count": 246,
   "metadata": {},
   "outputs": [
    {
     "data": {
      "image/png": "[encoded data removed]",
      "text/plain": [
       "<Figure size 432x288 with 1 Axes>"
      ]
     },
     "metadata": {
      "needs_background": "light"
     },
     "output_type": "display_data"
    }
   ],
   "source": [
    "wordcloud = WordCloud().generate(' '.join(df['words']))\n",
    "plt.imshow(wordcloud)\n",
    "plt.axis(\"off\")\n",
    "plt.show()"
   ]
  },
  {
   "cell_type": "code",
   "execution_count": 249,
   "metadata": {},
   "outputs": [
    {
     "data": {
      "text/html": [
       "<div>\n",
       "<style scoped>\n",
       "    .dataframe tbody tr th:only-of-type {\n",
       "        vertical-align: middle;\n",
       "    }\n",
       "\n",
       "    .dataframe tbody tr th {\n",
       "        vertical-align: top;\n",
       "    }\n",
       "\n",
       "    .dataframe thead th {\n",
       "        text-align: right;\n",
       "    }\n",
       "</style>\n",
       "<table border=\"1\" class=\"dataframe\">\n",
       "  <thead>\n",
       "    <tr style=\"text-align: right;\">\n",
       "      <th></th>\n",
       "      <th>0</th>\n",
       "      <th>1</th>\n",
       "    </tr>\n",
       "  </thead>\n",
       "  <tbody>\n",
       "    <tr>\n",
       "      <th>5</th>\n",
       "      <td>you</td>\n",
       "      <td>1217</td>\n",
       "    </tr>\n",
       "    <tr>\n",
       "      <th>55</th>\n",
       "      <td>the</td>\n",
       "      <td>660</td>\n",
       "    </tr>\n",
       "    <tr>\n",
       "      <th>13</th>\n",
       "      <td>for</td>\n",
       "      <td>633</td>\n",
       "    </tr>\n",
       "    <tr>\n",
       "      <th>85</th>\n",
       "      <td>here</td>\n",
       "      <td>602</td>\n",
       "    </tr>\n",
       "    <tr>\n",
       "      <th>166</th>\n",
       "      <td>contact</td>\n",
       "      <td>601</td>\n",
       "    </tr>\n",
       "    <tr>\n",
       "      <th>165</th>\n",
       "      <td>Please</td>\n",
       "      <td>597</td>\n",
       "    </tr>\n",
       "    <tr>\n",
       "      <th>46</th>\n",
       "      <td>and</td>\n",
       "      <td>480</td>\n",
       "    </tr>\n",
       "    <tr>\n",
       "      <th>41</th>\n",
       "      <td>your</td>\n",
       "      <td>479</td>\n",
       "    </tr>\n",
       "    <tr>\n",
       "      <th>159</th>\n",
       "      <td>that</td>\n",
       "      <td>462</td>\n",
       "    </tr>\n",
       "    <tr>\n",
       "      <th>25</th>\n",
       "      <td>our</td>\n",
       "      <td>461</td>\n",
       "    </tr>\n",
       "    <tr>\n",
       "      <th>2</th>\n",
       "      <td>hear</td>\n",
       "      <td>443</td>\n",
       "    </tr>\n",
       "    <tr>\n",
       "      <th>3</th>\n",
       "      <td>this</td>\n",
       "      <td>412</td>\n",
       "    </tr>\n",
       "    <tr>\n",
       "      <th>8</th>\n",
       "      <td>call</td>\n",
       "      <td>386</td>\n",
       "    </tr>\n",
       "    <tr>\n",
       "      <th>33</th>\n",
       "      <td>more</td>\n",
       "      <td>373</td>\n",
       "    </tr>\n",
       "    <tr>\n",
       "      <th>17</th>\n",
       "      <td>like</td>\n",
       "      <td>367</td>\n",
       "    </tr>\n",
       "    <tr>\n",
       "      <th>34</th>\n",
       "      <td>can</td>\n",
       "      <td>262</td>\n",
       "    </tr>\n",
       "    <tr>\n",
       "      <th>9</th>\n",
       "      <td>CDT</td>\n",
       "      <td>245</td>\n",
       "    </tr>\n",
       "    <tr>\n",
       "      <th>1</th>\n",
       "      <td>sorry</td>\n",
       "      <td>242</td>\n",
       "    </tr>\n",
       "    <tr>\n",
       "      <th>10</th>\n",
       "      <td>CST</td>\n",
       "      <td>241</td>\n",
       "    </tr>\n",
       "    <tr>\n",
       "      <th>242</th>\n",
       "      <td>learn</td>\n",
       "      <td>219</td>\n",
       "    </tr>\n",
       "  </tbody>\n",
       "</table>\n",
       "</div>"
      ],
      "text/plain": [
       "           0     1\n",
       "5        you  1217\n",
       "55       the   660\n",
       "13       for   633\n",
       "85      here   602\n",
       "166  contact   601\n",
       "165   Please   597\n",
       "46       and   480\n",
       "41      your   479\n",
       "159     that   462\n",
       "25       our   461\n",
       "2       hear   443\n",
       "3       this   412\n",
       "8       call   386\n",
       "33      more   373\n",
       "17      like   367\n",
       "34       can   262\n",
       "9        CDT   245\n",
       "1      sorry   242\n",
       "10       CST   241\n",
       "242    learn   219"
      ]
     },
     "execution_count": 249,
     "metadata": {},
     "output_type": "execute_result"
    }
   ],
   "source": [
    "fdist = list(Counter(\" \".join(df['cleaned']).split(\" \")).items())\n",
    "\n",
    "# convert to dataframe\n",
    "freq_word = []\n",
    "\n",
    "for k,v in fdist:\n",
    "    freq_word.append([k,v])\n",
    "\n",
    "wordlist = pd.DataFrame(freq_word)\n",
    "\n",
    "#\n",
    "wordlist.sort_values(1, ascending=False).head(20)"
   ]
  },
  {
   "cell_type": "code",
   "execution_count": 250,
   "metadata": {},
   "outputs": [
    {
     "data": {
      "text/html": [
       "<div>\n",
       "<style scoped>\n",
       "    .dataframe tbody tr th:only-of-type {\n",
       "        vertical-align: middle;\n",
       "    }\n",
       "\n",
       "    .dataframe tbody tr th {\n",
       "        vertical-align: top;\n",
       "    }\n",
       "\n",
       "    .dataframe thead th {\n",
       "        text-align: right;\n",
       "    }\n",
       "</style>\n",
       "<table border=\"1\" class=\"dataframe\">\n",
       "  <thead>\n",
       "    <tr style=\"text-align: right;\">\n",
       "      <th></th>\n",
       "      <th>user</th>\n",
       "      <th>Unnamed: 1</th>\n",
       "      <th>time</th>\n",
       "      <th>tweets</th>\n",
       "      <th>cleaned</th>\n",
       "      <th>words</th>\n",
       "      <th>score</th>\n",
       "    </tr>\n",
       "  </thead>\n",
       "  <tbody>\n",
       "    <tr>\n",
       "      <th>0</th>\n",
       "      <td>applebees</td>\n",
       "      <td>1.102250e+18</td>\n",
       "      <td>3/3/2019 16:34</td>\n",
       "      <td>@YFan914 We're sorry to hear this. Could you p...</td>\n",
       "      <td>YFan sorry hear this Could you please give cal...</td>\n",
       "      <td>YFan, sorry, hear, this, Could, you, please, g...</td>\n",
       "      <td>0.2500</td>\n",
       "    </tr>\n",
       "    <tr>\n",
       "      <th>1</th>\n",
       "      <td>applebees</td>\n",
       "      <td>1.102130e+18</td>\n",
       "      <td>3/3/2019 8:49</td>\n",
       "      <td>@jarreyg Thanks for letting us know you would ...</td>\n",
       "      <td>jarreyg Thanks for letting know you would like...</td>\n",
       "      <td>jarreyg, Thanks, for, letting, know, you, woul...</td>\n",
       "      <td>0.6597</td>\n",
       "    </tr>\n",
       "    <tr>\n",
       "      <th>2</th>\n",
       "      <td>applebees</td>\n",
       "      <td>1.102130e+18</td>\n",
       "      <td>3/3/2019 8:46</td>\n",
       "      <td>@rosieexomarie We're sorry if there was an iss...</td>\n",
       "      <td>rosieexomarie sorry there was issue with serve...</td>\n",
       "      <td>rosieexomarie, sorry, there, was, issue, with,...</td>\n",
       "      <td>0.2960</td>\n",
       "    </tr>\n",
       "    <tr>\n",
       "      <th>3</th>\n",
       "      <td>applebees</td>\n",
       "      <td>1.102070e+18</td>\n",
       "      <td>3/3/2019 5:05</td>\n",
       "      <td>@kaleidoscopee__ Missing key ingredients on yo...</td>\n",
       "      <td>kaleidoscopee Missing key ingredients your bur...</td>\n",
       "      <td>kaleidoscopee, Missing, key, ingredients, your...</td>\n",
       "      <td>0.2810</td>\n",
       "    </tr>\n",
       "    <tr>\n",
       "      <th>4</th>\n",
       "      <td>applebees</td>\n",
       "      <td>1.102070e+18</td>\n",
       "      <td>3/3/2019 5:03</td>\n",
       "      <td>@g_kern09 Hi Grant, we want to ensure our gues...</td>\n",
       "      <td>kern Grant want ensure our guests are happy wi...</td>\n",
       "      <td>kern, Grant, want, ensure, our, guests, are, h...</td>\n",
       "      <td>0.8442</td>\n",
       "    </tr>\n",
       "  </tbody>\n",
       "</table>\n",
       "</div>"
      ],
      "text/plain": [
       "        user    Unnamed: 1            time  \\\n",
       "0  applebees  1.102250e+18  3/3/2019 16:34   \n",
       "1  applebees  1.102130e+18   3/3/2019 8:49   \n",
       "2  applebees  1.102130e+18   3/3/2019 8:46   \n",
       "3  applebees  1.102070e+18   3/3/2019 5:05   \n",
       "4  applebees  1.102070e+18   3/3/2019 5:03   \n",
       "\n",
       "                                              tweets  \\\n",
       "0  @YFan914 We're sorry to hear this. Could you p...   \n",
       "1  @jarreyg Thanks for letting us know you would ...   \n",
       "2  @rosieexomarie We're sorry if there was an iss...   \n",
       "3  @kaleidoscopee__ Missing key ingredients on yo...   \n",
       "4  @g_kern09 Hi Grant, we want to ensure our gues...   \n",
       "\n",
       "                                             cleaned  \\\n",
       "0  YFan sorry hear this Could you please give cal...   \n",
       "1  jarreyg Thanks for letting know you would like...   \n",
       "2  rosieexomarie sorry there was issue with serve...   \n",
       "3  kaleidoscopee Missing key ingredients your bur...   \n",
       "4  kern Grant want ensure our guests are happy wi...   \n",
       "\n",
       "                                               words   score  \n",
       "0  YFan, sorry, hear, this, Could, you, please, g...  0.2500  \n",
       "1  jarreyg, Thanks, for, letting, know, you, woul...  0.6597  \n",
       "2  rosieexomarie, sorry, there, was, issue, with,...  0.2960  \n",
       "3  kaleidoscopee, Missing, key, ingredients, your...  0.2810  \n",
       "4  kern, Grant, want, ensure, our, guests, are, h...  0.8442  "
      ]
     },
     "execution_count": 250,
     "metadata": {},
     "output_type": "execute_result"
    }
   ],
   "source": [
    "df['score'] = df['words'].apply(lambda x: vs.polarity_scores(x)['compound'])\n",
    "df.head()"
   ]
  },
  {
   "cell_type": "code",
   "execution_count": 252,
   "metadata": {},
   "outputs": [
    {
     "data": {
      "text/plain": [
       "0.27027470588235536"
      ]
     },
     "execution_count": 252,
     "metadata": {},
     "output_type": "execute_result"
    }
   ],
   "source": [
    "df[\"score\"].mean()"
   ]
  },
  {
   "cell_type": "markdown",
   "metadata": {},
   "source": [
    "## Here we find that Applebees tweets mostly positve things to its customers!"
   ]
  },
  {
   "cell_type": "markdown",
   "metadata": {},
   "source": [
    "# 4. Storytelling"
   ]
  },
  {
   "cell_type": "markdown",
   "metadata": {},
   "source": [
    "  After performing a word frequency and sentiment anlaysis on the two data sets I found some interesting things. The first thing that I found was that some frequently mentioned things that customers mentioned were homies which is slang for friends they also mentioned enjoy frequently which means that people who tweet about applebees tend to have a positve expirence. This was backed up by the sentiment analysis that I performed where it came out that customer tweets had an average positve sentment score. This implies that people who tweet about applebees tend to like the resturant. \n",
    "  \n",
    "  \n",
    "  Then I moved on to analyzing the tweets that applebees themselves send out. This was intersting because many of the tweets are responding to customer comments from the look of it. I found by looking at my wordcloud that applebees says thing like Sorry, please contact, and thank you wuite frequently. This is becasue many of the tweets are in response to customer tweets. After doing a sentiment analysis on the applebees tweets I found that applebees tweets out mostly positive things. This is to be expected because they want to leave a positve impression on their followers. Overall I enjoyed collecting and working with this data it was fun!!!\n",
    "\n"
   ]
  },
  {
   "cell_type": "markdown",
   "metadata": {},
   "source": [
    "On my honor, as a student, I have neither given nor received unauthorized aid on this academic work"
   ]
  },
  {
   "cell_type": "code",
   "execution_count": 1,
   "metadata": {},
   "outputs": [
    {
     "name": "stdout",
     "output_type": "stream",
     "text": [
      "Collecting pyLDAvis\n",
      "  Downloading https://files.pythonhosted.org/packages/a5/3a/af82e070a8a96e13217c8f362f9a73e82d61ac8fff3a2561946a97f96266/pyLDAvis-2.1.2.tar.gz (1.6MB)\n",
      "Requirement already satisfied: wheel>=0.23.0 in c:\\users\\brian\\anaconda3\\lib\\site-packages (from pyLDAvis) (0.32.3)\n",
      "Requirement already satisfied: numpy>=1.9.2 in c:\\users\\brian\\anaconda3\\lib\\site-packages (from pyLDAvis) (1.15.4)\n",
      "Requirement already satisfied: scipy>=0.18.0 in c:\\users\\brian\\anaconda3\\lib\\site-packages (from pyLDAvis) (1.1.0)\n",
      "Requirement already satisfied: pandas>=0.17.0 in c:\\users\\brian\\anaconda3\\lib\\site-packages (from pyLDAvis) (0.23.4)\n",
      "Requirement already satisfied: joblib>=0.8.4 in c:\\users\\brian\\anaconda3\\lib\\site-packages (from pyLDAvis) (0.13.2)\n",
      "Requirement already satisfied: jinja2>=2.7.2 in c:\\users\\brian\\anaconda3\\lib\\site-packages (from pyLDAvis) (2.10)\n",
      "Requirement already satisfied: numexpr in c:\\users\\brian\\anaconda3\\lib\\site-packages (from pyLDAvis) (2.6.8)\n",
      "Requirement already satisfied: pytest in c:\\users\\brian\\anaconda3\\lib\\site-packages (from pyLDAvis) (4.0.2)\n",
      "Requirement already satisfied: future in c:\\users\\brian\\anaconda3\\lib\\site-packages (from pyLDAvis) (0.17.1)\n",
      "Collecting funcy (from pyLDAvis)\n",
      "  Downloading https://files.pythonhosted.org/packages/b3/23/d1f90f4e2af5f9d4921ab3797e33cf0503e3f130dd390a812f3bf59ce9ea/funcy-1.12-py2.py3-none-any.whl\n",
      "Requirement already satisfied: python-dateutil>=2.5.0 in c:\\users\\brian\\anaconda3\\lib\\site-packages (from pandas>=0.17.0->pyLDAvis) (2.7.5)\n",
      "Requirement already satisfied: pytz>=2011k in c:\\users\\brian\\anaconda3\\lib\\site-packages (from pandas>=0.17.0->pyLDAvis) (2018.7)\n",
      "Requirement already satisfied: MarkupSafe>=0.23 in c:\\users\\brian\\anaconda3\\lib\\site-packages (from jinja2>=2.7.2->pyLDAvis) (1.1.0)\n",
      "Requirement already satisfied: py>=1.5.0 in c:\\users\\brian\\anaconda3\\lib\\site-packages (from pytest->pyLDAvis) (1.7.0)\n",
      "Requirement already satisfied: six>=1.10.0 in c:\\users\\brian\\anaconda3\\lib\\site-packages (from pytest->pyLDAvis) (1.12.0)\n",
      "Requirement already satisfied: setuptools in c:\\users\\brian\\anaconda3\\lib\\site-packages (from pytest->pyLDAvis) (40.6.3)\n",
      "Requirement already satisfied: attrs>=17.4.0 in c:\\users\\brian\\anaconda3\\lib\\site-packages (from pytest->pyLDAvis) (18.2.0)\n",
      "Requirement already satisfied: more-itertools>=4.0.0 in c:\\users\\brian\\anaconda3\\lib\\site-packages (from pytest->pyLDAvis) (4.3.0)\n",
      "Requirement already satisfied: atomicwrites>=1.0 in c:\\users\\brian\\anaconda3\\lib\\site-packages (from pytest->pyLDAvis) (1.2.1)\n",
      "Requirement already satisfied: pluggy>=0.7 in c:\\users\\brian\\anaconda3\\lib\\site-packages (from pytest->pyLDAvis) (0.8.0)\n",
      "Requirement already satisfied: colorama in c:\\users\\brian\\anaconda3\\lib\\site-packages (from pytest->pyLDAvis) (0.4.1)\n",
      "Building wheels for collected packages: pyLDAvis\n",
      "  Running setup.py bdist_wheel for pyLDAvis: started\n",
      "  Running setup.py bdist_wheel for pyLDAvis: finished with status 'done'\n",
      "  Stored in directory: C:\\Users\\brian\\AppData\\Local\\pip\\Cache\\wheels\\98\\71\\24\\513a99e58bb6b8465bae4d2d5e9dba8f0bef8179e3051ac414\n",
      "Successfully built pyLDAvis\n",
      "Installing collected packages: funcy, pyLDAvis\n",
      "Successfully installed funcy-1.12 pyLDAvis-2.1.2\n"
     ]
    }
   ],
   "source": [
    "!pip install pyLDAvis"
   ]
  },
  {
   "cell_type": "code",
   "execution_count": null,
   "metadata": {},
   "outputs": [],
   "source": [
    "from IPython.display import Image\n",
    "Image(\"data/bigdata.png\")"
   ]
  },
  {
   "cell_type": "code",
   "execution_count": null,
   "metadata": {},
   "outputs": [],
   "source": []
  }
 ],
 "metadata": {
  "kernelspec": {
   "display_name": "Python 3",
   "language": "python",
   "name": "python3"
  },
  "language_info": {
   "codemirror_mode": {
    "name": "ipython",
    "version": 3
   },
   "file_extension": ".py",
   "mimetype": "text/x-python",
   "name": "python",
   "nbconvert_exporter": "python",
   "pygments_lexer": "ipython3",
   "version": "3.7.1"
  }
 },
 "nbformat": 4,
 "nbformat_minor": 2
}
